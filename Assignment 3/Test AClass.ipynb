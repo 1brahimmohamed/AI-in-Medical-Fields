{
 "cells": [
  {
   "cell_type": "code",
   "execution_count": 16,
   "outputs": [],
   "source": [
    "import pandas as pd\n",
    "import numpy as np\n",
    "from collections import Counter\n",
    "import math"
   ],
   "metadata": {
    "collapsed": false
   }
  },
  {
   "cell_type": "code",
   "execution_count": 17,
   "metadata": {
    "collapsed": true
   },
   "outputs": [],
   "source": [
    "class DecisionTree:\n",
    "\n",
    "    def __init__(self, max_depth=None, min_samples_split=2, min_samples_leaf=1):\n",
    "        self.max_depth = max_depth\n",
    "        self.min_samples_split = min_samples_split\n",
    "        self.min_samples_leaf = min_samples_leaf\n",
    "        self.tree = None\n",
    "\n",
    "    def entropy(self, y):\n",
    "        counter = Counter(y)\n",
    "        freqs = [count / len(y) for count in counter.values()]\n",
    "        return -sum(freqs * np.log2(freqs))\n",
    "\n",
    "    def information_gain(self, X, y, split_attribute):\n",
    "        split_col = X[:, split_attribute]\n",
    "        H_total = self.entropy(y)\n",
    "\n",
    "        # Split the data and target variable based on the split attribute\n",
    "        left_indices = split_col <= np.median(split_col)\n",
    "        right_indices = split_col > np.median(split_col)\n",
    "        y_left, y_right = y[left_indices], y[right_indices]\n",
    "\n",
    "        # Calculate the entropy of the left and right groups\n",
    "        H_left, H_right = self.entropy(y_left), self.entropy(y_right)\n",
    "\n",
    "        # Calculate the information gain\n",
    "        IG = H_total - (len(y_left) / len(y)) * H_left - (len(y_right) / len(y)) * H_right\n",
    "        return IG\n",
    "\n",
    "    def best_split(self, X, y):\n",
    "        best_IG = 0\n",
    "        best_attribute = None\n",
    "\n",
    "        # Find the best split attribute\n",
    "        for i in range(X.shape[1]):\n",
    "            IG = self.information_gain(X, y, i)\n",
    "            if IG > best_IG:\n",
    "                best_IG = IG\n",
    "                best_attribute = i\n",
    "\n",
    "        return best_attribute\n",
    "\n",
    "    def build_tree(self, X, y, depth=0):\n",
    "        # Stop recursion if there are no samples left or max depth reached\n",
    "        if len(y) == 0:\n",
    "            return Counter(y).most_common(1)[0][0]\n",
    "        elif depth == self.max_depth:\n",
    "            return Counter(y).most_common(1)[0][0]\n",
    "\n",
    "        # Check if the node is pure\n",
    "        if len(np.unique(y)) == 1:\n",
    "            return y[0]\n",
    "\n",
    "        # Check if the number of samples is smaller than min_samples_split\n",
    "        if len(y) < self.min_samples_split:\n",
    "            return Counter(y).most_common(1)[0][0]\n",
    "\n",
    "        # Find the best split attribute and value\n",
    "        best_attribute = self.best_split(X, y)\n",
    "        split_value = np.median(X[:, best_attribute])\n",
    "\n",
    "        # Split the data based on the best attribute and value\n",
    "        left_indices = X[:, best_attribute] <= split_value\n",
    "        right_indices = X[:, best_attribute] > split_value\n",
    "        X_left, y_left = X[left_indices], y[left_indices]\n",
    "        X_right, y_right = X[right_indices], y[right_indices]\n",
    "\n",
    "        # Check if the number of samples in the split is smaller than min_samples_leaf\n",
    "        if len(y_left) < self.min_samples_leaf or len(y_right) < self.min_samples_leaf:\n",
    "            return Counter(y).most_common(1)[0][0]\n",
    "\n",
    "        # Recursively build the left and right branches of the tree\n",
    "        left_tree = self.build_tree(X_left, y_left, depth+1)\n",
    "        right_tree = self.build_tree(X_right, y_right, depth+1)\n",
    "\n",
    "        # Return the decision node\n",
    "        return {'attribute': best_attribute, 'split_value':split_value, 'left': left_tree, 'right':right_tree}\n",
    "\n",
    "    def fit(self, X, y):\n",
    "        self.tree = self.build_tree(X, y)\n",
    "\n",
    "    def predict(self, X):\n",
    "        y_pred = []\n",
    "        for i in range(X.shape[0]):\n",
    "            node = self.tree\n",
    "            while isinstance(node, dict):\n",
    "                if X[i, node['attribute']] <= node['split_value']:\n",
    "                    node = node['left']\n",
    "                else:\n",
    "                    node = node['right']\n",
    "            y_pred.append(node)\n",
    "        return np.array(y_pred)\n"
   ]
  },
  {
   "cell_type": "code",
   "execution_count": 23,
   "outputs": [
    {
     "data": {
      "text/plain": "         age  gender  height  weight  ap_hi  ap_lo  cholesterol  gluc  smoke  \\\nid                                                                             \n0      18393       2     168    62.0    110     80            1     1      0   \n1      20228       1     156    85.0    140     90            3     1      0   \n2      18857       1     165    64.0    130     70            3     1      0   \n3      17623       2     169    82.0    150    100            1     1      0   \n4      17474       1     156    56.0    100     60            1     1      0   \n...      ...     ...     ...     ...    ...    ...          ...   ...    ...   \n99993  19240       2     168    76.0    120     80            1     1      1   \n99995  22601       1     158   126.0    140     90            2     2      0   \n99996  19066       2     183   105.0    180     90            3     1      0   \n99998  22431       1     163    72.0    135     80            1     2      0   \n99999  20540       1     170    72.0    120     80            2     1      0   \n\n       alco  active  cardio  \nid                           \n0         0       1       0  \n1         0       1       1  \n2         0       0       1  \n3         0       1       1  \n4         0       0       0  \n...     ...     ...     ...  \n99993     0       1       0  \n99995     0       1       1  \n99996     1       0       1  \n99998     0       0       1  \n99999     0       1       0  \n\n[70000 rows x 12 columns]",
      "text/html": "<div>\n<style scoped>\n    .dataframe tbody tr th:only-of-type {\n        vertical-align: middle;\n    }\n\n    .dataframe tbody tr th {\n        vertical-align: top;\n    }\n\n    .dataframe thead th {\n        text-align: right;\n    }\n</style>\n<table border=\"1\" class=\"dataframe\">\n  <thead>\n    <tr style=\"text-align: right;\">\n      <th></th>\n      <th>age</th>\n      <th>gender</th>\n      <th>height</th>\n      <th>weight</th>\n      <th>ap_hi</th>\n      <th>ap_lo</th>\n      <th>cholesterol</th>\n      <th>gluc</th>\n      <th>smoke</th>\n      <th>alco</th>\n      <th>active</th>\n      <th>cardio</th>\n    </tr>\n    <tr>\n      <th>id</th>\n      <th></th>\n      <th></th>\n      <th></th>\n      <th></th>\n      <th></th>\n      <th></th>\n      <th></th>\n      <th></th>\n      <th></th>\n      <th></th>\n      <th></th>\n      <th></th>\n    </tr>\n  </thead>\n  <tbody>\n    <tr>\n      <th>0</th>\n      <td>18393</td>\n      <td>2</td>\n      <td>168</td>\n      <td>62.0</td>\n      <td>110</td>\n      <td>80</td>\n      <td>1</td>\n      <td>1</td>\n      <td>0</td>\n      <td>0</td>\n      <td>1</td>\n      <td>0</td>\n    </tr>\n    <tr>\n      <th>1</th>\n      <td>20228</td>\n      <td>1</td>\n      <td>156</td>\n      <td>85.0</td>\n      <td>140</td>\n      <td>90</td>\n      <td>3</td>\n      <td>1</td>\n      <td>0</td>\n      <td>0</td>\n      <td>1</td>\n      <td>1</td>\n    </tr>\n    <tr>\n      <th>2</th>\n      <td>18857</td>\n      <td>1</td>\n      <td>165</td>\n      <td>64.0</td>\n      <td>130</td>\n      <td>70</td>\n      <td>3</td>\n      <td>1</td>\n      <td>0</td>\n      <td>0</td>\n      <td>0</td>\n      <td>1</td>\n    </tr>\n    <tr>\n      <th>3</th>\n      <td>17623</td>\n      <td>2</td>\n      <td>169</td>\n      <td>82.0</td>\n      <td>150</td>\n      <td>100</td>\n      <td>1</td>\n      <td>1</td>\n      <td>0</td>\n      <td>0</td>\n      <td>1</td>\n      <td>1</td>\n    </tr>\n    <tr>\n      <th>4</th>\n      <td>17474</td>\n      <td>1</td>\n      <td>156</td>\n      <td>56.0</td>\n      <td>100</td>\n      <td>60</td>\n      <td>1</td>\n      <td>1</td>\n      <td>0</td>\n      <td>0</td>\n      <td>0</td>\n      <td>0</td>\n    </tr>\n    <tr>\n      <th>...</th>\n      <td>...</td>\n      <td>...</td>\n      <td>...</td>\n      <td>...</td>\n      <td>...</td>\n      <td>...</td>\n      <td>...</td>\n      <td>...</td>\n      <td>...</td>\n      <td>...</td>\n      <td>...</td>\n      <td>...</td>\n    </tr>\n    <tr>\n      <th>99993</th>\n      <td>19240</td>\n      <td>2</td>\n      <td>168</td>\n      <td>76.0</td>\n      <td>120</td>\n      <td>80</td>\n      <td>1</td>\n      <td>1</td>\n      <td>1</td>\n      <td>0</td>\n      <td>1</td>\n      <td>0</td>\n    </tr>\n    <tr>\n      <th>99995</th>\n      <td>22601</td>\n      <td>1</td>\n      <td>158</td>\n      <td>126.0</td>\n      <td>140</td>\n      <td>90</td>\n      <td>2</td>\n      <td>2</td>\n      <td>0</td>\n      <td>0</td>\n      <td>1</td>\n      <td>1</td>\n    </tr>\n    <tr>\n      <th>99996</th>\n      <td>19066</td>\n      <td>2</td>\n      <td>183</td>\n      <td>105.0</td>\n      <td>180</td>\n      <td>90</td>\n      <td>3</td>\n      <td>1</td>\n      <td>0</td>\n      <td>1</td>\n      <td>0</td>\n      <td>1</td>\n    </tr>\n    <tr>\n      <th>99998</th>\n      <td>22431</td>\n      <td>1</td>\n      <td>163</td>\n      <td>72.0</td>\n      <td>135</td>\n      <td>80</td>\n      <td>1</td>\n      <td>2</td>\n      <td>0</td>\n      <td>0</td>\n      <td>0</td>\n      <td>1</td>\n    </tr>\n    <tr>\n      <th>99999</th>\n      <td>20540</td>\n      <td>1</td>\n      <td>170</td>\n      <td>72.0</td>\n      <td>120</td>\n      <td>80</td>\n      <td>2</td>\n      <td>1</td>\n      <td>0</td>\n      <td>0</td>\n      <td>1</td>\n      <td>0</td>\n    </tr>\n  </tbody>\n</table>\n<p>70000 rows × 12 columns</p>\n</div>"
     },
     "execution_count": 23,
     "metadata": {},
     "output_type": "execute_result"
    }
   ],
   "source": [
    "# load data\n",
    "cardio_df = pd.read_csv('./data/cardio_train.csv' , sep= ';', index_col=0)\n",
    "cardio_df"
   ],
   "metadata": {
    "collapsed": false
   }
  },
  {
   "cell_type": "code",
   "execution_count": 26,
   "outputs": [],
   "source": [
    "from sklearn.model_selection import train_test_split\n",
    "\n",
    "# Split the data into features and target variable\n",
    "X = cardio_df.drop('cardio', axis=1).values\n",
    "y = cardio_df['cardio'].values\n",
    "\n",
    "X_train, X_test, y_train, y_test = train_test_split(X, y, test_size=0.2, random_state=42)\n",
    "\n",
    "# Fit the decision tree to the data\n",
    "tree = DecisionTree(max_depth=5)\n",
    "tree.fit(X_train, y_train)\n",
    "\n",
    "# Predict on new data\n",
    "y_pred = tree.predict(X_test)"
   ],
   "metadata": {
    "collapsed": false
   }
  },
  {
   "cell_type": "code",
   "execution_count": 27,
   "outputs": [
    {
     "name": "stdout",
     "output_type": "stream",
     "text": [
      "0.7245714285714285\n"
     ]
    }
   ],
   "source": [
    "from sklearn.metrics import accuracy_score, confusion_matrix, classification_report\n",
    "\n",
    "my_accuracy = accuracy_score(y_test, y_pred)\n",
    "print(my_accuracy)"
   ],
   "metadata": {
    "collapsed": false
   }
  },
  {
   "cell_type": "code",
   "execution_count": null,
   "outputs": [],
   "source": [],
   "metadata": {
    "collapsed": false
   }
  }
 ],
 "metadata": {
  "kernelspec": {
   "display_name": "Python 3",
   "language": "python",
   "name": "python3"
  },
  "language_info": {
   "codemirror_mode": {
    "name": "ipython",
    "version": 2
   },
   "file_extension": ".py",
   "mimetype": "text/x-python",
   "name": "python",
   "nbconvert_exporter": "python",
   "pygments_lexer": "ipython2",
   "version": "2.7.6"
  }
 },
 "nbformat": 4,
 "nbformat_minor": 0
}
