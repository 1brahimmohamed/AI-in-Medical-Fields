{
 "cells": [
  {
   "cell_type": "markdown",
   "source": [
    "---\n",
    "# Cairo University Faculty of Engineering\n",
    "## Machine Learning\n",
    "## Assignment 3 - Decision trees from scratch\n",
    "\n",
    "---"
   ],
   "metadata": {
    "collapsed": false
   }
  },
  {
   "cell_type": "markdown",
   "source": [
    "**Name** : Ibrahim Mohamed Ibrahim"
   ],
   "metadata": {
    "collapsed": false
   }
  },
  {
   "cell_type": "markdown",
   "source": [
    "### Data Set"
   ],
   "metadata": {
    "collapsed": false
   }
  },
  {
   "cell_type": "code",
   "execution_count": 58,
   "metadata": {
    "collapsed": true
   },
   "outputs": [],
   "source": [
    "import numpy as np\n",
    "import pandas as pd\n",
    "import time\n",
    "\n",
    "from collections import Counter\n",
    "from sklearn.tree import DecisionTreeClassifier\n",
    "from sklearn.model_selection import train_test_split\n",
    "from sklearn.metrics import accuracy_score, confusion_matrix, classification_report"
   ]
  },
  {
   "cell_type": "code",
   "execution_count": 59,
   "outputs": [
    {
     "name": "stdout",
     "output_type": "stream",
     "text": [
      "<class 'pandas.core.frame.DataFrame'>\n",
      "Int64Index: 70000 entries, 0 to 99999\n",
      "Data columns (total 12 columns):\n",
      " #   Column       Non-Null Count  Dtype  \n",
      "---  ------       --------------  -----  \n",
      " 0   age          70000 non-null  int64  \n",
      " 1   gender       70000 non-null  int64  \n",
      " 2   height       70000 non-null  int64  \n",
      " 3   weight       70000 non-null  float64\n",
      " 4   ap_hi        70000 non-null  int64  \n",
      " 5   ap_lo        70000 non-null  int64  \n",
      " 6   cholesterol  70000 non-null  int64  \n",
      " 7   gluc         70000 non-null  int64  \n",
      " 8   smoke        70000 non-null  int64  \n",
      " 9   alco         70000 non-null  int64  \n",
      " 10  active       70000 non-null  int64  \n",
      " 11  cardio       70000 non-null  int64  \n",
      "dtypes: float64(1), int64(11)\n",
      "memory usage: 6.9 MB\n"
     ]
    }
   ],
   "source": [
    "## load data\n",
    "cardio_df = pd.read_csv('./data/cardio_train.csv' , sep= ';', index_col=0)\n",
    "cardio_df.info()"
   ],
   "metadata": {
    "collapsed": false
   }
  },
  {
   "cell_type": "code",
   "execution_count": 60,
   "outputs": [
    {
     "data": {
      "text/plain": "      age  gender  height  weight  ap_hi  ap_lo  cholesterol  gluc  smoke  \\\nid                                                                          \n0   18393       2     168    62.0    110     80            1     1      0   \n1   20228       1     156    85.0    140     90            3     1      0   \n2   18857       1     165    64.0    130     70            3     1      0   \n3   17623       2     169    82.0    150    100            1     1      0   \n4   17474       1     156    56.0    100     60            1     1      0   \n\n    alco  active  cardio  \nid                        \n0      0       1       0  \n1      0       1       1  \n2      0       0       1  \n3      0       1       1  \n4      0       0       0  ",
      "text/html": "<div>\n<style scoped>\n    .dataframe tbody tr th:only-of-type {\n        vertical-align: middle;\n    }\n\n    .dataframe tbody tr th {\n        vertical-align: top;\n    }\n\n    .dataframe thead th {\n        text-align: right;\n    }\n</style>\n<table border=\"1\" class=\"dataframe\">\n  <thead>\n    <tr style=\"text-align: right;\">\n      <th></th>\n      <th>age</th>\n      <th>gender</th>\n      <th>height</th>\n      <th>weight</th>\n      <th>ap_hi</th>\n      <th>ap_lo</th>\n      <th>cholesterol</th>\n      <th>gluc</th>\n      <th>smoke</th>\n      <th>alco</th>\n      <th>active</th>\n      <th>cardio</th>\n    </tr>\n    <tr>\n      <th>id</th>\n      <th></th>\n      <th></th>\n      <th></th>\n      <th></th>\n      <th></th>\n      <th></th>\n      <th></th>\n      <th></th>\n      <th></th>\n      <th></th>\n      <th></th>\n      <th></th>\n    </tr>\n  </thead>\n  <tbody>\n    <tr>\n      <th>0</th>\n      <td>18393</td>\n      <td>2</td>\n      <td>168</td>\n      <td>62.0</td>\n      <td>110</td>\n      <td>80</td>\n      <td>1</td>\n      <td>1</td>\n      <td>0</td>\n      <td>0</td>\n      <td>1</td>\n      <td>0</td>\n    </tr>\n    <tr>\n      <th>1</th>\n      <td>20228</td>\n      <td>1</td>\n      <td>156</td>\n      <td>85.0</td>\n      <td>140</td>\n      <td>90</td>\n      <td>3</td>\n      <td>1</td>\n      <td>0</td>\n      <td>0</td>\n      <td>1</td>\n      <td>1</td>\n    </tr>\n    <tr>\n      <th>2</th>\n      <td>18857</td>\n      <td>1</td>\n      <td>165</td>\n      <td>64.0</td>\n      <td>130</td>\n      <td>70</td>\n      <td>3</td>\n      <td>1</td>\n      <td>0</td>\n      <td>0</td>\n      <td>0</td>\n      <td>1</td>\n    </tr>\n    <tr>\n      <th>3</th>\n      <td>17623</td>\n      <td>2</td>\n      <td>169</td>\n      <td>82.0</td>\n      <td>150</td>\n      <td>100</td>\n      <td>1</td>\n      <td>1</td>\n      <td>0</td>\n      <td>0</td>\n      <td>1</td>\n      <td>1</td>\n    </tr>\n    <tr>\n      <th>4</th>\n      <td>17474</td>\n      <td>1</td>\n      <td>156</td>\n      <td>56.0</td>\n      <td>100</td>\n      <td>60</td>\n      <td>1</td>\n      <td>1</td>\n      <td>0</td>\n      <td>0</td>\n      <td>0</td>\n      <td>0</td>\n    </tr>\n  </tbody>\n</table>\n</div>"
     },
     "execution_count": 60,
     "metadata": {},
     "output_type": "execute_result"
    }
   ],
   "source": [
    "## view the first 5 element of the data\n",
    "cardio_df.head()"
   ],
   "metadata": {
    "collapsed": false
   }
  },
  {
   "cell_type": "markdown",
   "source": [
    "### Data Exploration"
   ],
   "metadata": {
    "collapsed": false
   }
  },
  {
   "cell_type": "code",
   "execution_count": 61,
   "outputs": [
    {
     "data": {
      "text/plain": "     age  gender  height  weight  ap_hi  ap_lo  cholesterol  gluc  smoke  \\\nid                                                                         \n0   50.0       2     168    62.0    110     80            1     1      0   \n1   55.0       1     156    85.0    140     90            3     1      0   \n2   52.0       1     165    64.0    130     70            3     1      0   \n3   48.0       2     169    82.0    150    100            1     1      0   \n4   48.0       1     156    56.0    100     60            1     1      0   \n\n    alco  active  cardio  \nid                        \n0      0       1       0  \n1      0       1       1  \n2      0       0       1  \n3      0       1       1  \n4      0       0       0  ",
      "text/html": "<div>\n<style scoped>\n    .dataframe tbody tr th:only-of-type {\n        vertical-align: middle;\n    }\n\n    .dataframe tbody tr th {\n        vertical-align: top;\n    }\n\n    .dataframe thead th {\n        text-align: right;\n    }\n</style>\n<table border=\"1\" class=\"dataframe\">\n  <thead>\n    <tr style=\"text-align: right;\">\n      <th></th>\n      <th>age</th>\n      <th>gender</th>\n      <th>height</th>\n      <th>weight</th>\n      <th>ap_hi</th>\n      <th>ap_lo</th>\n      <th>cholesterol</th>\n      <th>gluc</th>\n      <th>smoke</th>\n      <th>alco</th>\n      <th>active</th>\n      <th>cardio</th>\n    </tr>\n    <tr>\n      <th>id</th>\n      <th></th>\n      <th></th>\n      <th></th>\n      <th></th>\n      <th></th>\n      <th></th>\n      <th></th>\n      <th></th>\n      <th></th>\n      <th></th>\n      <th></th>\n      <th></th>\n    </tr>\n  </thead>\n  <tbody>\n    <tr>\n      <th>0</th>\n      <td>50.0</td>\n      <td>2</td>\n      <td>168</td>\n      <td>62.0</td>\n      <td>110</td>\n      <td>80</td>\n      <td>1</td>\n      <td>1</td>\n      <td>0</td>\n      <td>0</td>\n      <td>1</td>\n      <td>0</td>\n    </tr>\n    <tr>\n      <th>1</th>\n      <td>55.0</td>\n      <td>1</td>\n      <td>156</td>\n      <td>85.0</td>\n      <td>140</td>\n      <td>90</td>\n      <td>3</td>\n      <td>1</td>\n      <td>0</td>\n      <td>0</td>\n      <td>1</td>\n      <td>1</td>\n    </tr>\n    <tr>\n      <th>2</th>\n      <td>52.0</td>\n      <td>1</td>\n      <td>165</td>\n      <td>64.0</td>\n      <td>130</td>\n      <td>70</td>\n      <td>3</td>\n      <td>1</td>\n      <td>0</td>\n      <td>0</td>\n      <td>0</td>\n      <td>1</td>\n    </tr>\n    <tr>\n      <th>3</th>\n      <td>48.0</td>\n      <td>2</td>\n      <td>169</td>\n      <td>82.0</td>\n      <td>150</td>\n      <td>100</td>\n      <td>1</td>\n      <td>1</td>\n      <td>0</td>\n      <td>0</td>\n      <td>1</td>\n      <td>1</td>\n    </tr>\n    <tr>\n      <th>4</th>\n      <td>48.0</td>\n      <td>1</td>\n      <td>156</td>\n      <td>56.0</td>\n      <td>100</td>\n      <td>60</td>\n      <td>1</td>\n      <td>1</td>\n      <td>0</td>\n      <td>0</td>\n      <td>0</td>\n      <td>0</td>\n    </tr>\n  </tbody>\n</table>\n</div>"
     },
     "execution_count": 61,
     "metadata": {},
     "output_type": "execute_result"
    }
   ],
   "source": [
    "## convert age to years and round it\n",
    "cardio_df['age'] = round(cardio_df['age'] / 365.25)\n",
    "cardio_df.head(5)"
   ],
   "metadata": {
    "collapsed": false
   }
  },
  {
   "cell_type": "code",
   "execution_count": 62,
   "outputs": [
    {
     "data": {
      "text/plain": "               count        mean         std    min    25%    50%    75%  \\\nage          70000.0   53.303157    6.760171   30.0   48.0   54.0   58.0   \ngender       70000.0    1.349571    0.476838    1.0    1.0    1.0    2.0   \nheight       70000.0  164.359229    8.210126   55.0  159.0  165.0  170.0   \nweight       70000.0   74.205690   14.395757   10.0   65.0   72.0   82.0   \nap_hi        70000.0  128.817286  154.011419 -150.0  120.0  120.0  140.0   \nap_lo        70000.0   96.630414  188.472530  -70.0   80.0   80.0   90.0   \ncholesterol  70000.0    1.366871    0.680250    1.0    1.0    1.0    2.0   \ngluc         70000.0    1.226457    0.572270    1.0    1.0    1.0    1.0   \nsmoke        70000.0    0.088129    0.283484    0.0    0.0    0.0    0.0   \nalco         70000.0    0.053771    0.225568    0.0    0.0    0.0    0.0   \nactive       70000.0    0.803729    0.397179    0.0    1.0    1.0    1.0   \ncardio       70000.0    0.499700    0.500003    0.0    0.0    0.0    1.0   \n\n                 max  \nage             65.0  \ngender           2.0  \nheight         250.0  \nweight         200.0  \nap_hi        16020.0  \nap_lo        11000.0  \ncholesterol      3.0  \ngluc             3.0  \nsmoke            1.0  \nalco             1.0  \nactive           1.0  \ncardio           1.0  ",
      "text/html": "<div>\n<style scoped>\n    .dataframe tbody tr th:only-of-type {\n        vertical-align: middle;\n    }\n\n    .dataframe tbody tr th {\n        vertical-align: top;\n    }\n\n    .dataframe thead th {\n        text-align: right;\n    }\n</style>\n<table border=\"1\" class=\"dataframe\">\n  <thead>\n    <tr style=\"text-align: right;\">\n      <th></th>\n      <th>count</th>\n      <th>mean</th>\n      <th>std</th>\n      <th>min</th>\n      <th>25%</th>\n      <th>50%</th>\n      <th>75%</th>\n      <th>max</th>\n    </tr>\n  </thead>\n  <tbody>\n    <tr>\n      <th>age</th>\n      <td>70000.0</td>\n      <td>53.303157</td>\n      <td>6.760171</td>\n      <td>30.0</td>\n      <td>48.0</td>\n      <td>54.0</td>\n      <td>58.0</td>\n      <td>65.0</td>\n    </tr>\n    <tr>\n      <th>gender</th>\n      <td>70000.0</td>\n      <td>1.349571</td>\n      <td>0.476838</td>\n      <td>1.0</td>\n      <td>1.0</td>\n      <td>1.0</td>\n      <td>2.0</td>\n      <td>2.0</td>\n    </tr>\n    <tr>\n      <th>height</th>\n      <td>70000.0</td>\n      <td>164.359229</td>\n      <td>8.210126</td>\n      <td>55.0</td>\n      <td>159.0</td>\n      <td>165.0</td>\n      <td>170.0</td>\n      <td>250.0</td>\n    </tr>\n    <tr>\n      <th>weight</th>\n      <td>70000.0</td>\n      <td>74.205690</td>\n      <td>14.395757</td>\n      <td>10.0</td>\n      <td>65.0</td>\n      <td>72.0</td>\n      <td>82.0</td>\n      <td>200.0</td>\n    </tr>\n    <tr>\n      <th>ap_hi</th>\n      <td>70000.0</td>\n      <td>128.817286</td>\n      <td>154.011419</td>\n      <td>-150.0</td>\n      <td>120.0</td>\n      <td>120.0</td>\n      <td>140.0</td>\n      <td>16020.0</td>\n    </tr>\n    <tr>\n      <th>ap_lo</th>\n      <td>70000.0</td>\n      <td>96.630414</td>\n      <td>188.472530</td>\n      <td>-70.0</td>\n      <td>80.0</td>\n      <td>80.0</td>\n      <td>90.0</td>\n      <td>11000.0</td>\n    </tr>\n    <tr>\n      <th>cholesterol</th>\n      <td>70000.0</td>\n      <td>1.366871</td>\n      <td>0.680250</td>\n      <td>1.0</td>\n      <td>1.0</td>\n      <td>1.0</td>\n      <td>2.0</td>\n      <td>3.0</td>\n    </tr>\n    <tr>\n      <th>gluc</th>\n      <td>70000.0</td>\n      <td>1.226457</td>\n      <td>0.572270</td>\n      <td>1.0</td>\n      <td>1.0</td>\n      <td>1.0</td>\n      <td>1.0</td>\n      <td>3.0</td>\n    </tr>\n    <tr>\n      <th>smoke</th>\n      <td>70000.0</td>\n      <td>0.088129</td>\n      <td>0.283484</td>\n      <td>0.0</td>\n      <td>0.0</td>\n      <td>0.0</td>\n      <td>0.0</td>\n      <td>1.0</td>\n    </tr>\n    <tr>\n      <th>alco</th>\n      <td>70000.0</td>\n      <td>0.053771</td>\n      <td>0.225568</td>\n      <td>0.0</td>\n      <td>0.0</td>\n      <td>0.0</td>\n      <td>0.0</td>\n      <td>1.0</td>\n    </tr>\n    <tr>\n      <th>active</th>\n      <td>70000.0</td>\n      <td>0.803729</td>\n      <td>0.397179</td>\n      <td>0.0</td>\n      <td>1.0</td>\n      <td>1.0</td>\n      <td>1.0</td>\n      <td>1.0</td>\n    </tr>\n    <tr>\n      <th>cardio</th>\n      <td>70000.0</td>\n      <td>0.499700</td>\n      <td>0.500003</td>\n      <td>0.0</td>\n      <td>0.0</td>\n      <td>0.0</td>\n      <td>1.0</td>\n      <td>1.0</td>\n    </tr>\n  </tbody>\n</table>\n</div>"
     },
     "execution_count": 62,
     "metadata": {},
     "output_type": "execute_result"
    }
   ],
   "source": [
    "## Get dataset statistics\n",
    "cardio_df.describe().T"
   ],
   "metadata": {
    "collapsed": false
   }
  },
  {
   "cell_type": "markdown",
   "source": [
    "### My Decision Tree Class"
   ],
   "metadata": {
    "collapsed": false
   }
  },
  {
   "cell_type": "code",
   "execution_count": 71,
   "outputs": [],
   "source": [
    "class DecisionTree:\n",
    "    def __init__(self, max_depth):\n",
    "        self.max_depth = max_depth\n",
    "        self.tree = {}\n",
    "\n",
    "    def _calculate_entropy(self, y):\n",
    "        _, counts = np.unique(y, return_counts=True)\n",
    "        probs = counts / np.sum(counts)\n",
    "        entropy = -np.sum(probs * np.log2(probs))\n",
    "\n",
    "        return entropy\n",
    "\n",
    "    def _calculate_information_gain(self, X, y, feature_idx, thresholds):\n",
    "        n_samples = len(y)\n",
    "        parent_entropy = self._calculate_entropy(y)\n",
    "\n",
    "        child_entropy = 0\n",
    "        for threshold in thresholds:\n",
    "            idx = X[:, feature_idx] == threshold\n",
    "            child_entropy += np.sum(idx) / n_samples * self._calculate_entropy(y[idx])\n",
    "\n",
    "        gain = parent_entropy - child_entropy\n",
    "\n",
    "        return gain\n",
    "\n",
    "    def _get_best_feature(self, X, y):\n",
    "        n_samples, n_features = X.shape\n",
    "        best_feature_idx = None\n",
    "        best_thresholds = None\n",
    "        max_info_gain = -1\n",
    "\n",
    "        for feature_idx in range(n_features):\n",
    "            feature_values = X[:, feature_idx]\n",
    "            thresholds = np.unique(feature_values)\n",
    "\n",
    "            info_gain = self._calculate_information_gain(X, y, feature_idx, thresholds)\n",
    "\n",
    "            if info_gain > max_info_gain:\n",
    "                max_info_gain = info_gain\n",
    "                best_feature_idx = feature_idx\n",
    "                best_thresholds = thresholds\n",
    "\n",
    "        return best_feature_idx, best_thresholds\n",
    "\n",
    "    # Function to use when we reach the max depth\n",
    "    def _most_common_label(self, y):\n",
    "        unique, counts = np.unique(y, return_counts=True)\n",
    "        index = np.argmax(counts)\n",
    "        label = unique[index]\n",
    "        return label\n",
    "\n",
    "\n",
    "    def _build_tree(self, X, y, depth=0):\n",
    "        n_samples, n_features = X.shape\n",
    "        n_classes = len(np.unique(y))\n",
    "\n",
    "        # Stopping criteria\n",
    "        if depth >= self.max_depth or n_classes == 1:\n",
    "            return self._most_common_label(y)\n",
    "\n",
    "        # Split the data based on the best feature\n",
    "        best_feature_idx, thresholds = self._get_best_feature(X, y)\n",
    "\n",
    "        sub_trees = {}\n",
    "        for threshold in thresholds:\n",
    "            idx = X[:, best_feature_idx] == threshold\n",
    "            sub_tree = self._build_tree(X[idx], y[idx], depth+1)\n",
    "            sub_trees[threshold] = sub_tree\n",
    "\n",
    "        # Node\n",
    "        node = {'feature_idx': best_feature_idx,\n",
    "                'thresholds': thresholds,\n",
    "                'sub_trees': sub_trees}\n",
    "\n",
    "        return node\n",
    "\n",
    "\n",
    "    def fit(self, X, y):\n",
    "        self.tree = self._build_tree(X, y)\n",
    "\n",
    "    # Loop throght the tree nodes\n",
    "    def _tree_traversal(self, x, node):\n",
    "        if isinstance(node, np.int64):\n",
    "            return node\n",
    "\n",
    "        feature_idx = node['feature_idx']\n",
    "        thresholds = node['thresholds']\n",
    "        sub_trees = node['sub_trees']\n",
    "\n",
    "        for threshold in thresholds:\n",
    "            if x[feature_idx] == threshold:\n",
    "                return self._tree_traversal(x, sub_trees[threshold])\n",
    "\n",
    "        return self._most_common_label(y)\n",
    "\n",
    "    def predict(self, X):\n",
    "        return np.array([self._tree_traversal(x, self.tree) for x in X])\n",
    "\n",
    "    def score(self, X, y):\n",
    "        y_pred = self.predict(X)\n",
    "        return np.mean(y == y_pred)"
   ],
   "metadata": {
    "collapsed": false
   }
  },
  {
   "cell_type": "code",
   "execution_count": 64,
   "outputs": [],
   "source": [
    "cont_columns = ['age', 'height', 'weight', 'ap_hi', 'ap_lo']\n",
    "\n",
    "for col in cont_columns:\n",
    "    threshold = cardio_df[col].mean()\n",
    "\n",
    "    cardio_df['updated_{}'.format(col)] = cardio_df[col].apply(lambda x: 0 if x < threshold else 1)\n",
    "    cardio_df.drop(col, axis=1, inplace=True)"
   ],
   "metadata": {
    "collapsed": false
   }
  },
  {
   "cell_type": "code",
   "execution_count": 65,
   "outputs": [
    {
     "data": {
      "text/plain": "       gender  cholesterol  gluc  smoke  alco  active  cardio  updated_age  \\\nid                                                                           \n0           2            1     1      0     0       1       0            0   \n1           1            3     1      0     0       1       1            1   \n2           1            3     1      0     0       0       1            0   \n3           2            1     1      0     0       1       1            0   \n4           1            1     1      0     0       0       0            0   \n...       ...          ...   ...    ...   ...     ...     ...          ...   \n99993       2            1     1      1     0       1       0            0   \n99995       1            2     2      0     0       1       1            1   \n99996       2            3     1      0     1       0       1            0   \n99998       1            1     2      0     0       0       1            1   \n99999       1            2     1      0     0       1       0            1   \n\n       updated_height  updated_weight  updated_ap_hi  updated_ap_lo  \nid                                                                   \n0                   1               0              0              0  \n1                   0               1              1              0  \n2                   1               0              1              0  \n3                   1               1              1              1  \n4                   0               0              0              0  \n...               ...             ...            ...            ...  \n99993               1               1              0              0  \n99995               0               1              1              0  \n99996               1               1              1              0  \n99998               0               0              1              0  \n99999               1               0              0              0  \n\n[70000 rows x 12 columns]",
      "text/html": "<div>\n<style scoped>\n    .dataframe tbody tr th:only-of-type {\n        vertical-align: middle;\n    }\n\n    .dataframe tbody tr th {\n        vertical-align: top;\n    }\n\n    .dataframe thead th {\n        text-align: right;\n    }\n</style>\n<table border=\"1\" class=\"dataframe\">\n  <thead>\n    <tr style=\"text-align: right;\">\n      <th></th>\n      <th>gender</th>\n      <th>cholesterol</th>\n      <th>gluc</th>\n      <th>smoke</th>\n      <th>alco</th>\n      <th>active</th>\n      <th>cardio</th>\n      <th>updated_age</th>\n      <th>updated_height</th>\n      <th>updated_weight</th>\n      <th>updated_ap_hi</th>\n      <th>updated_ap_lo</th>\n    </tr>\n    <tr>\n      <th>id</th>\n      <th></th>\n      <th></th>\n      <th></th>\n      <th></th>\n      <th></th>\n      <th></th>\n      <th></th>\n      <th></th>\n      <th></th>\n      <th></th>\n      <th></th>\n      <th></th>\n    </tr>\n  </thead>\n  <tbody>\n    <tr>\n      <th>0</th>\n      <td>2</td>\n      <td>1</td>\n      <td>1</td>\n      <td>0</td>\n      <td>0</td>\n      <td>1</td>\n      <td>0</td>\n      <td>0</td>\n      <td>1</td>\n      <td>0</td>\n      <td>0</td>\n      <td>0</td>\n    </tr>\n    <tr>\n      <th>1</th>\n      <td>1</td>\n      <td>3</td>\n      <td>1</td>\n      <td>0</td>\n      <td>0</td>\n      <td>1</td>\n      <td>1</td>\n      <td>1</td>\n      <td>0</td>\n      <td>1</td>\n      <td>1</td>\n      <td>0</td>\n    </tr>\n    <tr>\n      <th>2</th>\n      <td>1</td>\n      <td>3</td>\n      <td>1</td>\n      <td>0</td>\n      <td>0</td>\n      <td>0</td>\n      <td>1</td>\n      <td>0</td>\n      <td>1</td>\n      <td>0</td>\n      <td>1</td>\n      <td>0</td>\n    </tr>\n    <tr>\n      <th>3</th>\n      <td>2</td>\n      <td>1</td>\n      <td>1</td>\n      <td>0</td>\n      <td>0</td>\n      <td>1</td>\n      <td>1</td>\n      <td>0</td>\n      <td>1</td>\n      <td>1</td>\n      <td>1</td>\n      <td>1</td>\n    </tr>\n    <tr>\n      <th>4</th>\n      <td>1</td>\n      <td>1</td>\n      <td>1</td>\n      <td>0</td>\n      <td>0</td>\n      <td>0</td>\n      <td>0</td>\n      <td>0</td>\n      <td>0</td>\n      <td>0</td>\n      <td>0</td>\n      <td>0</td>\n    </tr>\n    <tr>\n      <th>...</th>\n      <td>...</td>\n      <td>...</td>\n      <td>...</td>\n      <td>...</td>\n      <td>...</td>\n      <td>...</td>\n      <td>...</td>\n      <td>...</td>\n      <td>...</td>\n      <td>...</td>\n      <td>...</td>\n      <td>...</td>\n    </tr>\n    <tr>\n      <th>99993</th>\n      <td>2</td>\n      <td>1</td>\n      <td>1</td>\n      <td>1</td>\n      <td>0</td>\n      <td>1</td>\n      <td>0</td>\n      <td>0</td>\n      <td>1</td>\n      <td>1</td>\n      <td>0</td>\n      <td>0</td>\n    </tr>\n    <tr>\n      <th>99995</th>\n      <td>1</td>\n      <td>2</td>\n      <td>2</td>\n      <td>0</td>\n      <td>0</td>\n      <td>1</td>\n      <td>1</td>\n      <td>1</td>\n      <td>0</td>\n      <td>1</td>\n      <td>1</td>\n      <td>0</td>\n    </tr>\n    <tr>\n      <th>99996</th>\n      <td>2</td>\n      <td>3</td>\n      <td>1</td>\n      <td>0</td>\n      <td>1</td>\n      <td>0</td>\n      <td>1</td>\n      <td>0</td>\n      <td>1</td>\n      <td>1</td>\n      <td>1</td>\n      <td>0</td>\n    </tr>\n    <tr>\n      <th>99998</th>\n      <td>1</td>\n      <td>1</td>\n      <td>2</td>\n      <td>0</td>\n      <td>0</td>\n      <td>0</td>\n      <td>1</td>\n      <td>1</td>\n      <td>0</td>\n      <td>0</td>\n      <td>1</td>\n      <td>0</td>\n    </tr>\n    <tr>\n      <th>99999</th>\n      <td>1</td>\n      <td>2</td>\n      <td>1</td>\n      <td>0</td>\n      <td>0</td>\n      <td>1</td>\n      <td>0</td>\n      <td>1</td>\n      <td>1</td>\n      <td>0</td>\n      <td>0</td>\n      <td>0</td>\n    </tr>\n  </tbody>\n</table>\n<p>70000 rows × 12 columns</p>\n</div>"
     },
     "execution_count": 65,
     "metadata": {},
     "output_type": "execute_result"
    }
   ],
   "source": [
    "cardio_df"
   ],
   "metadata": {
    "collapsed": false
   }
  },
  {
   "cell_type": "code",
   "execution_count": 66,
   "outputs": [],
   "source": [
    "## Split the dataset into features and target variable\n",
    "X = cardio_df.drop(['cardio'], axis=1).values\n",
    "y = cardio_df['cardio'].values\n",
    "\n",
    "\n",
    "\n",
    "## Split the dataset into training and testing sets\n",
    "X_train, X_test, y_train, y_test = train_test_split(X, y, test_size=0.2, random_state=42)"
   ],
   "metadata": {
    "collapsed": false
   }
  },
  {
   "cell_type": "code",
   "execution_count": 67,
   "outputs": [],
   "source": [
    "##  Create an instance of Sklearn Decision Tree with max_depth 5\n",
    "skl_tree = DecisionTreeClassifier(criterion= 'entropy', max_depth= 5)\n",
    "\n",
    "## Fitting decision tree model to data & calculating the time it takes\n",
    "skl_train_time_start = time.time()\n",
    "skl_tree.fit(X_train,y_train)\n",
    "skl_train_time_end = time.time()\n",
    "\n",
    "## Getting prediction from sklearn tree and calculate the time it takes\n",
    "skl_pred_time_start = time.time()\n",
    "skl_tree_y_pred = skl_tree.predict(X_test)\n",
    "skl_pred_time_end = time.time()\n",
    "\n",
    "# Calculate accuracy score of Sklearn tree predictions\n",
    "skl_acc = accuracy_score(skl_tree_y_pred,y_test) * 100"
   ],
   "metadata": {
    "collapsed": false
   }
  },
  {
   "cell_type": "code",
   "execution_count": 73,
   "outputs": [],
   "source": [
    "# Create an instance of MyDecisionTree class with max_depth 5\n",
    "my_tree = DecisionTree(max_depth=5)\n",
    "\n",
    "## Fitting decision tree model to data & calculating the time it takes\n",
    "my_train_time_start = time.time()\n",
    "my_tree.fit(X_train, y_train)\n",
    "my_train_time_end = time.time()\n",
    "\n",
    "\n",
    "## Getting prediction from  My tree and calculate the time it takes\n",
    "my_pred_time_start = time.time()\n",
    "my_tree_y_pred = my_tree.predict(X_test)\n",
    "my_pred_time_end = time.time()\n",
    "\n",
    "## Calculate accuracy score of my tree predictions\n",
    "my_acc = accuracy_score(y_test, my_tree_y_pred) * 100"
   ],
   "metadata": {
    "collapsed": false
   }
  },
  {
   "cell_type": "code",
   "execution_count": 74,
   "outputs": [],
   "source": [
    "## Calculate Sklearn tree time\n",
    "skl_train_time = skl_train_time_end - skl_train_time_start\n",
    "skl_pred_time = skl_pred_time_end - skl_pred_time_start\n",
    "\n",
    "## Calculate my tree time\n",
    "my_train_time = my_train_time_end - my_train_time_start\n",
    "my_pred_time = my_pred_time_end  - my_pred_time_start"
   ],
   "metadata": {
    "collapsed": false
   }
  },
  {
   "cell_type": "code",
   "execution_count": 75,
   "outputs": [
    {
     "name": "stdout",
     "output_type": "stream",
     "text": [
      "My Tree training time: 0.23337769508361816\n",
      "Scikit-Learn training time: 0.035902976989746094\n",
      "--------------------------------------------------\n",
      "My Tree prediction time: 0.048867225646972656\n",
      "Scikit-Learn prediction time: 0.0009982585906982422\n",
      "--------------------------------------------------\n",
      "My accuracy: 73.12857142857143\n",
      "Scikit-Learn accuracy: 73.13571428571429\n"
     ]
    }
   ],
   "source": [
    "print(f\"My Tree training time: {my_train_time}\")\n",
    "print(f\"Scikit-Learn training time: {skl_train_time}\")\n",
    "print(50*'-')\n",
    "print(f\"My Tree prediction time: {my_pred_time}\")\n",
    "print(f\"Scikit-Learn prediction time: {skl_pred_time}\")\n",
    "print(50*'-')\n",
    "print(f\"My accuracy: {my_acc}\")\n",
    "print(f\"Scikit-Learn accuracy: {skl_acc}\")"
   ],
   "metadata": {
    "collapsed": false
   }
  }
 ],
 "metadata": {
  "kernelspec": {
   "display_name": "Python 3",
   "language": "python",
   "name": "python3"
  },
  "language_info": {
   "codemirror_mode": {
    "name": "ipython",
    "version": 2
   },
   "file_extension": ".py",
   "mimetype": "text/x-python",
   "name": "python",
   "nbconvert_exporter": "python",
   "pygments_lexer": "ipython2",
   "version": "2.7.6"
  }
 },
 "nbformat": 4,
 "nbformat_minor": 0
}
