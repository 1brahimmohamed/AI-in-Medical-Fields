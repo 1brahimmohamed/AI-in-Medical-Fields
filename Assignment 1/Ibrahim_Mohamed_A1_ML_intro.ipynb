{
  "cells": [
    {
      "cell_type": "markdown",
      "id": "de24fb44-f309-4b05-833d-d9c98d441069",
      "metadata": {
        "id": "de24fb44-f309-4b05-833d-d9c98d441069",
        "tags": []
      },
      "source": [
        "---\n",
        "# Cairo University Faculty of Engineering\n",
        "## Machine Learning \n",
        "## Assignment 1 \n",
        "\n",
        "---"
      ]
    },
    {
      "cell_type": "markdown",
      "id": "04b5d1a1-4378-4074-87ab-2f2c669440e9",
      "metadata": {
        "id": "04b5d1a1-4378-4074-87ab-2f2c669440e9"
      },
      "source": [
        "Please write your full name here\n",
        "- **Name** : \"Ibrahim Mohamed Ibrahim\""
      ]
    },
    {
      "cell_type": "markdown",
      "id": "b21dd90e-5130-4c0f-8dd9-d13a5065db88",
      "metadata": {
        "id": "b21dd90e-5130-4c0f-8dd9-d13a5065db88"
      },
      "source": [
        "## Introduction to Machine Learning\n",
        "For this assignment, you will be using the Breast Cancer Wisconsin (Diagnostic) Database to create a classifier that can help diagnose patients. First, read through the description of the dataset (below)."
      ]
    },
    {
      "cell_type": "code",
      "execution_count": null,
      "id": "68e651ae-cf60-4e23-aa51-4ca39dd77573",
      "metadata": {
        "id": "68e651ae-cf60-4e23-aa51-4ca39dd77573",
        "colab": {
          "base_uri": "https://localhost:8080/"
        },
        "outputId": "6b4794e1-cf43-40b8-e57f-0e1580d526ef"
      },
      "outputs": [
        {
          "output_type": "stream",
          "name": "stdout",
          "text": [
            ".. _breast_cancer_dataset:\n",
            "\n",
            "Breast cancer wisconsin (diagnostic) dataset\n",
            "--------------------------------------------\n",
            "\n",
            "**Data Set Characteristics:**\n",
            "\n",
            "    :Number of Instances: 569\n",
            "\n",
            "    :Number of Attributes: 30 numeric, predictive attributes and the class\n",
            "\n",
            "    :Attribute Information:\n",
            "        - radius (mean of distances from center to points on the perimeter)\n",
            "        - texture (standard deviation of gray-scale values)\n",
            "        - perimeter\n",
            "        - area\n",
            "        - smoothness (local variation in radius lengths)\n",
            "        - compactness (perimeter^2 / area - 1.0)\n",
            "        - concavity (severity of concave portions of the contour)\n",
            "        - concave points (number of concave portions of the contour)\n",
            "        - symmetry\n",
            "        - fractal dimension (\"coastline approximation\" - 1)\n",
            "\n",
            "        The mean, standard error, and \"worst\" or largest (mean of the three\n",
            "        worst/largest values) of these features were computed for each image,\n",
            "        resulting in 30 features.  For instance, field 0 is Mean Radius, field\n",
            "        10 is Radius SE, field 20 is Worst Radius.\n",
            "\n",
            "        - class:\n",
            "                - WDBC-Malignant\n",
            "                - WDBC-Benign\n",
            "\n",
            "    :Summary Statistics:\n",
            "\n",
            "    ===================================== ====== ======\n",
            "                                           Min    Max\n",
            "    ===================================== ====== ======\n",
            "    radius (mean):                        6.981  28.11\n",
            "    texture (mean):                       9.71   39.28\n",
            "    perimeter (mean):                     43.79  188.5\n",
            "    area (mean):                          143.5  2501.0\n",
            "    smoothness (mean):                    0.053  0.163\n",
            "    compactness (mean):                   0.019  0.345\n",
            "    concavity (mean):                     0.0    0.427\n",
            "    concave points (mean):                0.0    0.201\n",
            "    symmetry (mean):                      0.106  0.304\n",
            "    fractal dimension (mean):             0.05   0.097\n",
            "    radius (standard error):              0.112  2.873\n",
            "    texture (standard error):             0.36   4.885\n",
            "    perimeter (standard error):           0.757  21.98\n",
            "    area (standard error):                6.802  542.2\n",
            "    smoothness (standard error):          0.002  0.031\n",
            "    compactness (standard error):         0.002  0.135\n",
            "    concavity (standard error):           0.0    0.396\n",
            "    concave points (standard error):      0.0    0.053\n",
            "    symmetry (standard error):            0.008  0.079\n",
            "    fractal dimension (standard error):   0.001  0.03\n",
            "    radius (worst):                       7.93   36.04\n",
            "    texture (worst):                      12.02  49.54\n",
            "    perimeter (worst):                    50.41  251.2\n",
            "    area (worst):                         185.2  4254.0\n",
            "    smoothness (worst):                   0.071  0.223\n",
            "    compactness (worst):                  0.027  1.058\n",
            "    concavity (worst):                    0.0    1.252\n",
            "    concave points (worst):               0.0    0.291\n",
            "    symmetry (worst):                     0.156  0.664\n",
            "    fractal dimension (worst):            0.055  0.208\n",
            "    ===================================== ====== ======\n",
            "\n",
            "    :Missing Attribute Values: None\n",
            "\n",
            "    :Class Distribution: 212 - Malignant, 357 - Benign\n",
            "\n",
            "    :Creator:  Dr. William H. Wolberg, W. Nick Street, Olvi L. Mangasarian\n",
            "\n",
            "    :Donor: Nick Street\n",
            "\n",
            "    :Date: November, 1995\n",
            "\n",
            "This is a copy of UCI ML Breast Cancer Wisconsin (Diagnostic) datasets.\n",
            "https://goo.gl/U2Uwz2\n",
            "\n",
            "Features are computed from a digitized image of a fine needle\n",
            "aspirate (FNA) of a breast mass.  They describe\n",
            "characteristics of the cell nuclei present in the image.\n",
            "\n",
            "Separating plane described above was obtained using\n",
            "Multisurface Method-Tree (MSM-T) [K. P. Bennett, \"Decision Tree\n",
            "Construction Via Linear Programming.\" Proceedings of the 4th\n",
            "Midwest Artificial Intelligence and Cognitive Science Society,\n",
            "pp. 97-101, 1992], a classification method which uses linear\n",
            "programming to construct a decision tree.  Relevant features\n",
            "were selected using an exhaustive search in the space of 1-4\n",
            "features and 1-3 separating planes.\n",
            "\n",
            "The actual linear program used to obtain the separating plane\n",
            "in the 3-dimensional space is that described in:\n",
            "[K. P. Bennett and O. L. Mangasarian: \"Robust Linear\n",
            "Programming Discrimination of Two Linearly Inseparable Sets\",\n",
            "Optimization Methods and Software 1, 1992, 23-34].\n",
            "\n",
            "This database is also available through the UW CS ftp server:\n",
            "\n",
            "ftp ftp.cs.wisc.edu\n",
            "cd math-prog/cpo-dataset/machine-learn/WDBC/\n",
            "\n",
            ".. topic:: References\n",
            "\n",
            "   - W.N. Street, W.H. Wolberg and O.L. Mangasarian. Nuclear feature extraction \n",
            "     for breast tumor diagnosis. IS&T/SPIE 1993 International Symposium on \n",
            "     Electronic Imaging: Science and Technology, volume 1905, pages 861-870,\n",
            "     San Jose, CA, 1993.\n",
            "   - O.L. Mangasarian, W.N. Street and W.H. Wolberg. Breast cancer diagnosis and \n",
            "     prognosis via linear programming. Operations Research, 43(4), pages 570-577, \n",
            "     July-August 1995.\n",
            "   - W.H. Wolberg, W.N. Street, and O.L. Mangasarian. Machine learning techniques\n",
            "     to diagnose breast cancer from fine-needle aspirates. Cancer Letters 77 (1994) \n",
            "     163-171.\n"
          ]
        }
      ],
      "source": [
        "import numpy as np\n",
        "import pandas as pd\n",
        "from sklearn.datasets import load_breast_cancer\n",
        "\n",
        "cancer = load_breast_cancer()\n",
        "\n",
        "print(cancer.DESCR) # Print the data set description"
      ]
    },
    {
      "cell_type": "markdown",
      "id": "2351a51c-3694-43d8-92c6-7c236b1beb3e",
      "metadata": {
        "id": "2351a51c-3694-43d8-92c6-7c236b1beb3e"
      },
      "source": [
        "The object returned by `load_breast_cancer()` is a scikit-learn Bunch object, which is similar to a dictionary."
      ]
    },
    {
      "cell_type": "code",
      "execution_count": null,
      "id": "fe395f5a-c610-4171-be0a-bb31d8f5d452",
      "metadata": {
        "id": "fe395f5a-c610-4171-be0a-bb31d8f5d452",
        "outputId": "75ae2d69-9e0c-48d8-84d6-70ca86cf8d7e",
        "colab": {
          "base_uri": "https://localhost:8080/"
        }
      },
      "outputs": [
        {
          "output_type": "execute_result",
          "data": {
            "text/plain": [
              "dict_keys(['data', 'target', 'frame', 'target_names', 'DESCR', 'feature_names', 'filename', 'data_module'])"
            ]
          },
          "metadata": {},
          "execution_count": 6
        }
      ],
      "source": [
        "cancer.keys()"
      ]
    },
    {
      "cell_type": "markdown",
      "id": "1892678c-6743-4719-ac12-2c8775c35969",
      "metadata": {
        "id": "1892678c-6743-4719-ac12-2c8775c35969"
      },
      "source": [
        "### Question 0\n",
        "\n",
        "How many features does the breast cancer dataset have?\n",
        "\n",
        "*This function should return an integer.*"
      ]
    },
    {
      "cell_type": "code",
      "execution_count": null,
      "id": "f5a2a53b-71b5-4f24-a7c5-9523a2f28cdd",
      "metadata": {
        "id": "f5a2a53b-71b5-4f24-a7c5-9523a2f28cdd"
      },
      "outputs": [],
      "source": [
        "def answer_zero():\n",
        "    feature_count = len(cancer['feature_names'])\n",
        "    \n",
        "    return feature_count"
      ]
    },
    {
      "cell_type": "markdown",
      "id": "4f4a4289-dc2f-498a-8305-afe03ff24714",
      "metadata": {
        "id": "4f4a4289-dc2f-498a-8305-afe03ff24714"
      },
      "source": [
        "### Question 1\n",
        "Pandas dataframes are much easier and more interpretable when dealing with tables. **Convert the cancer data into dataframe.**\n",
        "\n",
        "Note: Scikit-learn works with lists, numpy arrays, scipy-sparse matrices, and pandas DataFrames, so converting the dataset to a DataFrame is not necessary for training any model.\n",
        "\n",
        "*This function should return a (569, 31) DataFrame with *\n",
        "\n",
        "*columns = *\n",
        "\n",
        "    ['mean radius', 'mean texture', 'mean perimeter', 'mean area',\n",
        "    'mean smoothness', 'mean compactness', 'mean concavity',\n",
        "    'mean concave points', 'mean symmetry', 'mean fractal dimension',\n",
        "    'radius error', 'texture error', 'perimeter error', 'area error',\n",
        "    'smoothness error', 'compactness error', 'concavity error',\n",
        "    'concave points error', 'symmetry error', 'fractal dimension error',\n",
        "    'worst radius', 'worst texture', 'worst perimeter', 'worst area',\n",
        "    'worst smoothness', 'worst compactness', 'worst concavity',\n",
        "    'worst concave points', 'worst symmetry', 'worst fractal dimension',\n",
        "    'target']\n",
        "    \n",
        "*and index = *\n",
        "\n",
        "RangeIndex(start=0, stop=569, step=1)"
      ]
    },
    {
      "cell_type": "code",
      "execution_count": null,
      "id": "233db5f6-d74f-42ee-b6c3-537447effcab",
      "metadata": {
        "id": "233db5f6-d74f-42ee-b6c3-537447effcab",
        "colab": {
          "base_uri": "https://localhost:8080/",
          "height": 502
        },
        "outputId": "8979fb52-adc3-414e-c690-3f0350eb9aa8"
      },
      "outputs": [
        {
          "output_type": "execute_result",
          "data": {
            "text/plain": [
              "    mean radius mean texture mean perimeter mean area mean smoothness  \\\n",
              "0         17.99        10.38         122.80    1001.0         0.11840   \n",
              "1         20.57        17.77         132.90    1326.0         0.08474   \n",
              "2         19.69        21.25         130.00    1203.0         0.10960   \n",
              "3         11.42        20.38          77.58     386.1         0.14250   \n",
              "4         20.29        14.34         135.10    1297.0         0.10030   \n",
              "..          ...          ...            ...       ...             ...   \n",
              "564       21.56        22.39         142.00    1479.0         0.11100   \n",
              "565       20.13        28.25         131.20    1261.0         0.09780   \n",
              "566       16.60        28.08         108.30     858.1         0.08455   \n",
              "567       20.60        29.33         140.10    1265.0         0.11780   \n",
              "568        7.76        24.54          47.92     181.0         0.05263   \n",
              "\n",
              "    mean compactness mean concavity mean concave points mean symmetry  \\\n",
              "0            0.27760        0.30010             0.14710        0.2419   \n",
              "1            0.07864        0.08690             0.07017        0.1812   \n",
              "2            0.15990        0.19740             0.12790        0.2069   \n",
              "3            0.28390        0.24140             0.10520        0.2597   \n",
              "4            0.13280        0.19800             0.10430        0.1809   \n",
              "..               ...            ...                 ...           ...   \n",
              "564          0.11590        0.24390             0.13890        0.1726   \n",
              "565          0.10340        0.14400             0.09791        0.1752   \n",
              "566          0.10230        0.09251             0.05302        0.1590   \n",
              "567          0.27700        0.35140             0.15200        0.2397   \n",
              "568          0.04362        0.00000             0.00000        0.1587   \n",
              "\n",
              "    mean fractal dimension  ... worst texture worst perimeter worst area  \\\n",
              "0                  0.07871  ...         17.33          184.60     2019.0   \n",
              "1                  0.05667  ...         23.41          158.80     1956.0   \n",
              "2                  0.05999  ...         25.53          152.50     1709.0   \n",
              "3                  0.09744  ...         26.50           98.87      567.7   \n",
              "4                  0.05883  ...         16.67          152.20     1575.0   \n",
              "..                     ...  ...           ...             ...        ...   \n",
              "564                0.05623  ...         26.40          166.10     2027.0   \n",
              "565                0.05533  ...         38.25          155.00     1731.0   \n",
              "566                0.05648  ...         34.12          126.70     1124.0   \n",
              "567                0.07016  ...         39.42          184.60     1821.0   \n",
              "568                0.05884  ...         30.37           59.16      268.6   \n",
              "\n",
              "    worst smoothness worst compactness worst concavity worst concave points  \\\n",
              "0            0.16220           0.66560          0.7119               0.2654   \n",
              "1            0.12380           0.18660          0.2416               0.1860   \n",
              "2            0.14440           0.42450          0.4504               0.2430   \n",
              "3            0.20980           0.86630          0.6869               0.2575   \n",
              "4            0.13740           0.20500          0.4000               0.1625   \n",
              "..               ...               ...             ...                  ...   \n",
              "564          0.14100           0.21130          0.4107               0.2216   \n",
              "565          0.11660           0.19220          0.3215               0.1628   \n",
              "566          0.11390           0.30940          0.3403               0.1418   \n",
              "567          0.16500           0.86810          0.9387               0.2650   \n",
              "568          0.08996           0.06444          0.0000               0.0000   \n",
              "\n",
              "    worst symmetry worst fractal dimension target  \n",
              "0           0.4601                 0.11890      0  \n",
              "1           0.2750                 0.08902      0  \n",
              "2           0.3613                 0.08758      0  \n",
              "3           0.6638                 0.17300      0  \n",
              "4           0.2364                 0.07678      0  \n",
              "..             ...                     ...    ...  \n",
              "564         0.2060                 0.07115      0  \n",
              "565         0.2572                 0.06637      0  \n",
              "566         0.2218                 0.07820      0  \n",
              "567         0.4087                 0.12400      0  \n",
              "568         0.2871                 0.07039      1  \n",
              "\n",
              "[569 rows x 31 columns]"
            ],
            "text/html": [
              "\n",
              "  <div id=\"df-456b51ca-0769-4db8-acdd-213afd11f05b\">\n",
              "    <div class=\"colab-df-container\">\n",
              "      <div>\n",
              "<style scoped>\n",
              "    .dataframe tbody tr th:only-of-type {\n",
              "        vertical-align: middle;\n",
              "    }\n",
              "\n",
              "    .dataframe tbody tr th {\n",
              "        vertical-align: top;\n",
              "    }\n",
              "\n",
              "    .dataframe thead tr th {\n",
              "        text-align: left;\n",
              "    }\n",
              "</style>\n",
              "<table border=\"1\" class=\"dataframe\">\n",
              "  <thead>\n",
              "    <tr>\n",
              "      <th></th>\n",
              "      <th>mean radius</th>\n",
              "      <th>mean texture</th>\n",
              "      <th>mean perimeter</th>\n",
              "      <th>mean area</th>\n",
              "      <th>mean smoothness</th>\n",
              "      <th>mean compactness</th>\n",
              "      <th>mean concavity</th>\n",
              "      <th>mean concave points</th>\n",
              "      <th>mean symmetry</th>\n",
              "      <th>mean fractal dimension</th>\n",
              "      <th>...</th>\n",
              "      <th>worst texture</th>\n",
              "      <th>worst perimeter</th>\n",
              "      <th>worst area</th>\n",
              "      <th>worst smoothness</th>\n",
              "      <th>worst compactness</th>\n",
              "      <th>worst concavity</th>\n",
              "      <th>worst concave points</th>\n",
              "      <th>worst symmetry</th>\n",
              "      <th>worst fractal dimension</th>\n",
              "      <th>target</th>\n",
              "    </tr>\n",
              "  </thead>\n",
              "  <tbody>\n",
              "    <tr>\n",
              "      <th>0</th>\n",
              "      <td>17.99</td>\n",
              "      <td>10.38</td>\n",
              "      <td>122.80</td>\n",
              "      <td>1001.0</td>\n",
              "      <td>0.11840</td>\n",
              "      <td>0.27760</td>\n",
              "      <td>0.30010</td>\n",
              "      <td>0.14710</td>\n",
              "      <td>0.2419</td>\n",
              "      <td>0.07871</td>\n",
              "      <td>...</td>\n",
              "      <td>17.33</td>\n",
              "      <td>184.60</td>\n",
              "      <td>2019.0</td>\n",
              "      <td>0.16220</td>\n",
              "      <td>0.66560</td>\n",
              "      <td>0.7119</td>\n",
              "      <td>0.2654</td>\n",
              "      <td>0.4601</td>\n",
              "      <td>0.11890</td>\n",
              "      <td>0</td>\n",
              "    </tr>\n",
              "    <tr>\n",
              "      <th>1</th>\n",
              "      <td>20.57</td>\n",
              "      <td>17.77</td>\n",
              "      <td>132.90</td>\n",
              "      <td>1326.0</td>\n",
              "      <td>0.08474</td>\n",
              "      <td>0.07864</td>\n",
              "      <td>0.08690</td>\n",
              "      <td>0.07017</td>\n",
              "      <td>0.1812</td>\n",
              "      <td>0.05667</td>\n",
              "      <td>...</td>\n",
              "      <td>23.41</td>\n",
              "      <td>158.80</td>\n",
              "      <td>1956.0</td>\n",
              "      <td>0.12380</td>\n",
              "      <td>0.18660</td>\n",
              "      <td>0.2416</td>\n",
              "      <td>0.1860</td>\n",
              "      <td>0.2750</td>\n",
              "      <td>0.08902</td>\n",
              "      <td>0</td>\n",
              "    </tr>\n",
              "    <tr>\n",
              "      <th>2</th>\n",
              "      <td>19.69</td>\n",
              "      <td>21.25</td>\n",
              "      <td>130.00</td>\n",
              "      <td>1203.0</td>\n",
              "      <td>0.10960</td>\n",
              "      <td>0.15990</td>\n",
              "      <td>0.19740</td>\n",
              "      <td>0.12790</td>\n",
              "      <td>0.2069</td>\n",
              "      <td>0.05999</td>\n",
              "      <td>...</td>\n",
              "      <td>25.53</td>\n",
              "      <td>152.50</td>\n",
              "      <td>1709.0</td>\n",
              "      <td>0.14440</td>\n",
              "      <td>0.42450</td>\n",
              "      <td>0.4504</td>\n",
              "      <td>0.2430</td>\n",
              "      <td>0.3613</td>\n",
              "      <td>0.08758</td>\n",
              "      <td>0</td>\n",
              "    </tr>\n",
              "    <tr>\n",
              "      <th>3</th>\n",
              "      <td>11.42</td>\n",
              "      <td>20.38</td>\n",
              "      <td>77.58</td>\n",
              "      <td>386.1</td>\n",
              "      <td>0.14250</td>\n",
              "      <td>0.28390</td>\n",
              "      <td>0.24140</td>\n",
              "      <td>0.10520</td>\n",
              "      <td>0.2597</td>\n",
              "      <td>0.09744</td>\n",
              "      <td>...</td>\n",
              "      <td>26.50</td>\n",
              "      <td>98.87</td>\n",
              "      <td>567.7</td>\n",
              "      <td>0.20980</td>\n",
              "      <td>0.86630</td>\n",
              "      <td>0.6869</td>\n",
              "      <td>0.2575</td>\n",
              "      <td>0.6638</td>\n",
              "      <td>0.17300</td>\n",
              "      <td>0</td>\n",
              "    </tr>\n",
              "    <tr>\n",
              "      <th>4</th>\n",
              "      <td>20.29</td>\n",
              "      <td>14.34</td>\n",
              "      <td>135.10</td>\n",
              "      <td>1297.0</td>\n",
              "      <td>0.10030</td>\n",
              "      <td>0.13280</td>\n",
              "      <td>0.19800</td>\n",
              "      <td>0.10430</td>\n",
              "      <td>0.1809</td>\n",
              "      <td>0.05883</td>\n",
              "      <td>...</td>\n",
              "      <td>16.67</td>\n",
              "      <td>152.20</td>\n",
              "      <td>1575.0</td>\n",
              "      <td>0.13740</td>\n",
              "      <td>0.20500</td>\n",
              "      <td>0.4000</td>\n",
              "      <td>0.1625</td>\n",
              "      <td>0.2364</td>\n",
              "      <td>0.07678</td>\n",
              "      <td>0</td>\n",
              "    </tr>\n",
              "    <tr>\n",
              "      <th>...</th>\n",
              "      <td>...</td>\n",
              "      <td>...</td>\n",
              "      <td>...</td>\n",
              "      <td>...</td>\n",
              "      <td>...</td>\n",
              "      <td>...</td>\n",
              "      <td>...</td>\n",
              "      <td>...</td>\n",
              "      <td>...</td>\n",
              "      <td>...</td>\n",
              "      <td>...</td>\n",
              "      <td>...</td>\n",
              "      <td>...</td>\n",
              "      <td>...</td>\n",
              "      <td>...</td>\n",
              "      <td>...</td>\n",
              "      <td>...</td>\n",
              "      <td>...</td>\n",
              "      <td>...</td>\n",
              "      <td>...</td>\n",
              "      <td>...</td>\n",
              "    </tr>\n",
              "    <tr>\n",
              "      <th>564</th>\n",
              "      <td>21.56</td>\n",
              "      <td>22.39</td>\n",
              "      <td>142.00</td>\n",
              "      <td>1479.0</td>\n",
              "      <td>0.11100</td>\n",
              "      <td>0.11590</td>\n",
              "      <td>0.24390</td>\n",
              "      <td>0.13890</td>\n",
              "      <td>0.1726</td>\n",
              "      <td>0.05623</td>\n",
              "      <td>...</td>\n",
              "      <td>26.40</td>\n",
              "      <td>166.10</td>\n",
              "      <td>2027.0</td>\n",
              "      <td>0.14100</td>\n",
              "      <td>0.21130</td>\n",
              "      <td>0.4107</td>\n",
              "      <td>0.2216</td>\n",
              "      <td>0.2060</td>\n",
              "      <td>0.07115</td>\n",
              "      <td>0</td>\n",
              "    </tr>\n",
              "    <tr>\n",
              "      <th>565</th>\n",
              "      <td>20.13</td>\n",
              "      <td>28.25</td>\n",
              "      <td>131.20</td>\n",
              "      <td>1261.0</td>\n",
              "      <td>0.09780</td>\n",
              "      <td>0.10340</td>\n",
              "      <td>0.14400</td>\n",
              "      <td>0.09791</td>\n",
              "      <td>0.1752</td>\n",
              "      <td>0.05533</td>\n",
              "      <td>...</td>\n",
              "      <td>38.25</td>\n",
              "      <td>155.00</td>\n",
              "      <td>1731.0</td>\n",
              "      <td>0.11660</td>\n",
              "      <td>0.19220</td>\n",
              "      <td>0.3215</td>\n",
              "      <td>0.1628</td>\n",
              "      <td>0.2572</td>\n",
              "      <td>0.06637</td>\n",
              "      <td>0</td>\n",
              "    </tr>\n",
              "    <tr>\n",
              "      <th>566</th>\n",
              "      <td>16.60</td>\n",
              "      <td>28.08</td>\n",
              "      <td>108.30</td>\n",
              "      <td>858.1</td>\n",
              "      <td>0.08455</td>\n",
              "      <td>0.10230</td>\n",
              "      <td>0.09251</td>\n",
              "      <td>0.05302</td>\n",
              "      <td>0.1590</td>\n",
              "      <td>0.05648</td>\n",
              "      <td>...</td>\n",
              "      <td>34.12</td>\n",
              "      <td>126.70</td>\n",
              "      <td>1124.0</td>\n",
              "      <td>0.11390</td>\n",
              "      <td>0.30940</td>\n",
              "      <td>0.3403</td>\n",
              "      <td>0.1418</td>\n",
              "      <td>0.2218</td>\n",
              "      <td>0.07820</td>\n",
              "      <td>0</td>\n",
              "    </tr>\n",
              "    <tr>\n",
              "      <th>567</th>\n",
              "      <td>20.60</td>\n",
              "      <td>29.33</td>\n",
              "      <td>140.10</td>\n",
              "      <td>1265.0</td>\n",
              "      <td>0.11780</td>\n",
              "      <td>0.27700</td>\n",
              "      <td>0.35140</td>\n",
              "      <td>0.15200</td>\n",
              "      <td>0.2397</td>\n",
              "      <td>0.07016</td>\n",
              "      <td>...</td>\n",
              "      <td>39.42</td>\n",
              "      <td>184.60</td>\n",
              "      <td>1821.0</td>\n",
              "      <td>0.16500</td>\n",
              "      <td>0.86810</td>\n",
              "      <td>0.9387</td>\n",
              "      <td>0.2650</td>\n",
              "      <td>0.4087</td>\n",
              "      <td>0.12400</td>\n",
              "      <td>0</td>\n",
              "    </tr>\n",
              "    <tr>\n",
              "      <th>568</th>\n",
              "      <td>7.76</td>\n",
              "      <td>24.54</td>\n",
              "      <td>47.92</td>\n",
              "      <td>181.0</td>\n",
              "      <td>0.05263</td>\n",
              "      <td>0.04362</td>\n",
              "      <td>0.00000</td>\n",
              "      <td>0.00000</td>\n",
              "      <td>0.1587</td>\n",
              "      <td>0.05884</td>\n",
              "      <td>...</td>\n",
              "      <td>30.37</td>\n",
              "      <td>59.16</td>\n",
              "      <td>268.6</td>\n",
              "      <td>0.08996</td>\n",
              "      <td>0.06444</td>\n",
              "      <td>0.0000</td>\n",
              "      <td>0.0000</td>\n",
              "      <td>0.2871</td>\n",
              "      <td>0.07039</td>\n",
              "      <td>1</td>\n",
              "    </tr>\n",
              "  </tbody>\n",
              "</table>\n",
              "<p>569 rows × 31 columns</p>\n",
              "</div>\n",
              "      <button class=\"colab-df-convert\" onclick=\"convertToInteractive('df-456b51ca-0769-4db8-acdd-213afd11f05b')\"\n",
              "              title=\"Convert this dataframe to an interactive table.\"\n",
              "              style=\"display:none;\">\n",
              "        \n",
              "  <svg xmlns=\"http://www.w3.org/2000/svg\" height=\"24px\"viewBox=\"0 0 24 24\"\n",
              "       width=\"24px\">\n",
              "    <path d=\"M0 0h24v24H0V0z\" fill=\"none\"/>\n",
              "    <path d=\"M18.56 5.44l.94 2.06.94-2.06 2.06-.94-2.06-.94-.94-2.06-.94 2.06-2.06.94zm-11 1L8.5 8.5l.94-2.06 2.06-.94-2.06-.94L8.5 2.5l-.94 2.06-2.06.94zm10 10l.94 2.06.94-2.06 2.06-.94-2.06-.94-.94-2.06-.94 2.06-2.06.94z\"/><path d=\"M17.41 7.96l-1.37-1.37c-.4-.4-.92-.59-1.43-.59-.52 0-1.04.2-1.43.59L10.3 9.45l-7.72 7.72c-.78.78-.78 2.05 0 2.83L4 21.41c.39.39.9.59 1.41.59.51 0 1.02-.2 1.41-.59l7.78-7.78 2.81-2.81c.8-.78.8-2.07 0-2.86zM5.41 20L4 18.59l7.72-7.72 1.47 1.35L5.41 20z\"/>\n",
              "  </svg>\n",
              "      </button>\n",
              "      \n",
              "  <style>\n",
              "    .colab-df-container {\n",
              "      display:flex;\n",
              "      flex-wrap:wrap;\n",
              "      gap: 12px;\n",
              "    }\n",
              "\n",
              "    .colab-df-convert {\n",
              "      background-color: #E8F0FE;\n",
              "      border: none;\n",
              "      border-radius: 50%;\n",
              "      cursor: pointer;\n",
              "      display: none;\n",
              "      fill: #1967D2;\n",
              "      height: 32px;\n",
              "      padding: 0 0 0 0;\n",
              "      width: 32px;\n",
              "    }\n",
              "\n",
              "    .colab-df-convert:hover {\n",
              "      background-color: #E2EBFA;\n",
              "      box-shadow: 0px 1px 2px rgba(60, 64, 67, 0.3), 0px 1px 3px 1px rgba(60, 64, 67, 0.15);\n",
              "      fill: #174EA6;\n",
              "    }\n",
              "\n",
              "    [theme=dark] .colab-df-convert {\n",
              "      background-color: #3B4455;\n",
              "      fill: #D2E3FC;\n",
              "    }\n",
              "\n",
              "    [theme=dark] .colab-df-convert:hover {\n",
              "      background-color: #434B5C;\n",
              "      box-shadow: 0px 1px 3px 1px rgba(0, 0, 0, 0.15);\n",
              "      filter: drop-shadow(0px 1px 2px rgba(0, 0, 0, 0.3));\n",
              "      fill: #FFFFFF;\n",
              "    }\n",
              "  </style>\n",
              "\n",
              "      <script>\n",
              "        const buttonEl =\n",
              "          document.querySelector('#df-456b51ca-0769-4db8-acdd-213afd11f05b button.colab-df-convert');\n",
              "        buttonEl.style.display =\n",
              "          google.colab.kernel.accessAllowed ? 'block' : 'none';\n",
              "\n",
              "        async function convertToInteractive(key) {\n",
              "          const element = document.querySelector('#df-456b51ca-0769-4db8-acdd-213afd11f05b');\n",
              "          const dataTable =\n",
              "            await google.colab.kernel.invokeFunction('convertToInteractive',\n",
              "                                                     [key], {});\n",
              "          if (!dataTable) return;\n",
              "\n",
              "          const docLinkHtml = 'Like what you see? Visit the ' +\n",
              "            '<a target=\"_blank\" href=https://colab.research.google.com/notebooks/data_table.ipynb>data table notebook</a>'\n",
              "            + ' to learn more about interactive tables.';\n",
              "          element.innerHTML = '';\n",
              "          dataTable['output_type'] = 'display_data';\n",
              "          await google.colab.output.renderOutput(dataTable, element);\n",
              "          const docLink = document.createElement('div');\n",
              "          docLink.innerHTML = docLinkHtml;\n",
              "          element.appendChild(docLink);\n",
              "        }\n",
              "      </script>\n",
              "    </div>\n",
              "  </div>\n",
              "  "
            ]
          },
          "metadata": {},
          "execution_count": 40
        }
      ],
      "source": [
        "def answer_one():\n",
        "    # convert the cancer data into dataframe\n",
        "    df = pd.DataFrame(data=cancer.data, columns=[cancer.feature_names])\n",
        "    # add target column to the dataframe\n",
        "    df['target'] = cancer.target\n",
        "    \n",
        "    return df\n",
        "\n",
        "answer_one()"
      ]
    },
    {
      "cell_type": "markdown",
      "id": "8e4add0a-d9d3-4052-bcf2-56b61c4bf53f",
      "metadata": {
        "id": "8e4add0a-d9d3-4052-bcf2-56b61c4bf53f"
      },
      "source": [
        "### Question 2\n",
        "What is the class distribution? (i.e. how many instances of `malignant` and how many `benign`?)"
      ]
    },
    {
      "cell_type": "code",
      "execution_count": null,
      "id": "514559d7-5afe-4e40-aca8-c257dca18a5f",
      "metadata": {
        "id": "514559d7-5afe-4e40-aca8-c257dca18a5f",
        "colab": {
          "base_uri": "https://localhost:8080/"
        },
        "outputId": "1e23c400-f53e-44c9-cb86-b5b51ca98130"
      },
      "outputs": [
        {
          "output_type": "execute_result",
          "data": {
            "text/plain": [
              "(target,)\n",
              "benign       357\n",
              "malignant    212\n",
              "dtype: int64"
            ]
          },
          "metadata": {},
          "execution_count": 9
        }
      ],
      "source": [
        "def answer_two():\n",
        "\n",
        "    # load the dataframe\n",
        "    cancer_df = answer_one()\n",
        "    # count the number of malignant and benign samples\n",
        "    count = cancer_df['target'].value_counts()\n",
        "    # rename the label from 0 and 1 to malignant and benign\n",
        "    count = count.rename(index={0:'malignant', 1:'benign'})\n",
        "\n",
        "    return count\n",
        "\n",
        "answer_two()"
      ]
    },
    {
      "cell_type": "markdown",
      "id": "5c8cc5ea-3c4b-45aa-98a3-255d5b2a1b77",
      "metadata": {
        "id": "5c8cc5ea-3c4b-45aa-98a3-255d5b2a1b77"
      },
      "source": [
        "### Question 3\n",
        "Split the DataFrame into `X` (the data) and `y` (the labels)."
      ]
    },
    {
      "cell_type": "code",
      "execution_count": null,
      "id": "44a936d7-b539-4311-a137-d0304610dd09",
      "metadata": {
        "id": "44a936d7-b539-4311-a137-d0304610dd09"
      },
      "outputs": [],
      "source": [
        "def answer_three():\n",
        "  \n",
        "    # load the dataframe\n",
        "    cancer_df = answer_one()\n",
        "    # drop the target column from the dataframe to get the features only\n",
        "    X = cancer_df.drop(['target'], axis=1)\n",
        "    # get the target column\n",
        "    y = cancer_df['target']\n",
        "    \n",
        "    return X, y"
      ]
    },
    {
      "cell_type": "markdown",
      "id": "0f3336f9-9517-4a9a-91ca-fba2bb25d6dc",
      "metadata": {
        "id": "0f3336f9-9517-4a9a-91ca-fba2bb25d6dc"
      },
      "source": [
        "### Question 4\n",
        "Using `train_test_split`, split `X` and `y` into training and test sets"
      ]
    },
    {
      "cell_type": "code",
      "execution_count": null,
      "id": "180b69e2-b4cb-488f-909e-79cee866fa4f",
      "metadata": {
        "id": "180b69e2-b4cb-488f-909e-79cee866fa4f"
      },
      "outputs": [],
      "source": [
        "from sklearn.model_selection import train_test_split\n",
        "\n",
        "def answer_four():\n",
        "  \n",
        "    X, y = answer_three()\n",
        "    X_train, X_test, y_train, y_test = train_test_split(X, y, test_size=0.2, random_state=42)\n",
        "    \n",
        "    return X_train, X_test, y_train, y_test"
      ]
    },
    {
      "cell_type": "markdown",
      "id": "bcb50095-8bec-4d75-9160-8338f9801dae",
      "metadata": {
        "id": "bcb50095-8bec-4d75-9160-8338f9801dae"
      },
      "source": [
        "### Question 5\n",
        "Using KNeighborsClassifier, fit a k-nearest neighbors (knn) classifier with `X_train`, `y_train`."
      ]
    },
    {
      "cell_type": "code",
      "execution_count": null,
      "id": "a6e5acd3-af98-4ab7-b309-40b319f9bf33",
      "metadata": {
        "id": "a6e5acd3-af98-4ab7-b309-40b319f9bf33"
      },
      "outputs": [],
      "source": [
        "from sklearn.neighbors import KNeighborsClassifier\n",
        "\n",
        "def answer_five():\n",
        "    X_train, X_test, y_train, y_test = answer_four()\n",
        "    \n",
        "    # create a knn classifier with 5 neighbors\n",
        "    knn = KNeighborsClassifier()\n",
        "    # fit the classifier to the training data\n",
        "    knn.fit(X_train, y_train)\n",
        "    \n",
        "    return knn"
      ]
    },
    {
      "cell_type": "markdown",
      "id": "55dbd498-cb23-4cab-9138-c4b7e7db82c1",
      "metadata": {
        "id": "55dbd498-cb23-4cab-9138-c4b7e7db82c1"
      },
      "source": [
        "### Question 6\n",
        "Using your knn classifier, predict the class label using the median value for each feature."
      ]
    },
    {
      "cell_type": "code",
      "execution_count": null,
      "id": "e6d989ab-6fd5-440a-933f-b6c6ff1072b4",
      "metadata": {
        "id": "e6d989ab-6fd5-440a-933f-b6c6ff1072b4"
      },
      "outputs": [],
      "source": [
        "def answer_six():\n",
        "    cancerdf = answer_one()\n",
        "        \n",
        "    # drop the target column from the dataframe to get the features only\n",
        "    cancer_df = cancer_df.drop(['target'], axis=1)\n",
        "    # get the median value for each feature\n",
        "    new_data = np.median(cancer_df, axis=0).reshape(1, -1)\n",
        "    # predict the class label using the knn classifier\n",
        "    knn = answer_five()\n",
        "    new_label = knn.predict(new_data)\n",
        "\n",
        "    return new_label"
      ]
    },
    {
      "cell_type": "markdown",
      "id": "07065db3-e464-473f-ab71-dbfeeee097f6",
      "metadata": {
        "id": "07065db3-e464-473f-ab71-dbfeeee097f6"
      },
      "source": [
        "### Question 7\n",
        "Using your knn classifier, predict the class labels for the test set `X_test`."
      ]
    },
    {
      "cell_type": "code",
      "execution_count": null,
      "id": "8f4b7833-53ee-4a3d-8dea-ad654cf3d47f",
      "metadata": {
        "id": "8f4b7833-53ee-4a3d-8dea-ad654cf3d47f"
      },
      "outputs": [],
      "source": [
        "def answer_seven():\n",
        "    X_train, X_test, y_train, y_test = answer_four()\n",
        "    knn = answer_five()\n",
        "\n",
        "    # predict the class labels for the test set\n",
        "    y_pred = knn.predict(X_test)\n",
        "    \n",
        "    return y_pred"
      ]
    },
    {
      "cell_type": "markdown",
      "id": "42288a73-b635-402d-8c26-229dc49c79f8",
      "metadata": {
        "id": "42288a73-b635-402d-8c26-229dc49c79f8"
      },
      "source": [
        "### Question 8\n",
        "Find the score (accuracy) of your knn classifier using `X_test` and `y_test` & `X_train` and `y_train`. \n",
        "- Is the training accuracy higher or lower that the testing accuracy? \n",
        "- According to the test accuracy, would this model generalize well to new inputs?"
      ]
    },
    {
      "cell_type": "code",
      "execution_count": null,
      "id": "27fa57dd-8326-4fe7-9110-4b5ba3d921fe",
      "metadata": {
        "id": "27fa57dd-8326-4fe7-9110-4b5ba3d921fe"
      },
      "outputs": [],
      "source": [
        "def answer_eight():\n",
        "    X_train, X_test, y_train, y_test = answer_four()\n",
        "    knn = answer_five()\n",
        "    \n",
        "    # calculate the accuracy of the classifier on the training data\n",
        "    train_accuracy = knn.score(X_train, y_train)\n",
        "\n",
        "    # calculate the accuracy of the classifier on the test data\n",
        "    test_accuracy = knn.score(X_test, y_test)\n",
        "    \n",
        "    return # Return your answer"
      ]
    },
    {
      "cell_type": "markdown",
      "id": "cb4d1ae2-967b-4df0-9bf0-2872b0c53535",
      "metadata": {
        "id": "cb4d1ae2-967b-4df0-9bf0-2872b0c53535"
      },
      "source": [
        "### Question 9\n",
        "##### Accuracy Plot\n",
        "* Create `mal_train_X`, `mal_train_y`,`ben_train_X`,`ben_train_y`, `mal_test_X`,`mal_test_y`, `ben_test_X` and `ben_test_y` portions of the dataset. Where `mal_train_X` contains all training samples that belongs to malignant class while `mal_train_y` contains all labels of the samples that belongs to malignant class, and so on for other variables.\n",
        "\n",
        "* Calculate Accuracy scores for each case and save all the results in a list called `scores` using knn model from question 5.\n",
        "\n",
        "Try using the plotting function below to visualize the differet predicition scores between training and test sets, as well as malignant and benign cells."
      ]
    },
    {
      "cell_type": "code",
      "execution_count": null,
      "id": "830729b6-9aa7-46c5-8cd1-04a3a7408f3a",
      "metadata": {
        "id": "830729b6-9aa7-46c5-8cd1-04a3a7408f3a"
      },
      "outputs": [],
      "source": [
        "import matplotlib.pyplot as plt\n",
        "def accuracy_plot():\n",
        "\n",
        "    %matplotlib inline\n",
        "\n",
        "    X_train, X_test, y_train, y_test = answer_four()\n",
        "\n",
        "    # Find the training and testing accuracies by target value (i.e. malignant, benign)\n",
        "    \n",
        "\n",
        "    y_train = np.array(y_train)\n",
        "    y_test = np.array(y_test)\n",
        "\n",
        "    mal_train_X = X_train[y_train==[0]]\n",
        "    mal_train_y = y_train[y_train==[0]]\n",
        "    ben_train_X = X_train[y_train==[1]]\n",
        "    ben_train_y = y_train[y_train==[1]]\n",
        "\n",
        "    mal_test_X = X_test[y_test==[0]]\n",
        "    mal_test_y = y_test[y_test==[0]]\n",
        "    ben_test_X = X_test[y_test==[1]]\n",
        "    ben_test_y = y_test[y_test==[1]]\n",
        "\n",
        "    mal_train_X = X_train[y_train==0]\n",
        "    mal_train_y = y_train[y_train==0]\n",
        "    ben_train_X = X_train[y_train==1]\n",
        "    ben_train_y = y_train[y_train==1]\n",
        "\n",
        "    mal_test_X = X_test[y_test==0]\n",
        "    mal_test_y = y_test[y_test==0]\n",
        "    ben_test_X = X_test[y_test==1]\n",
        "    ben_test_y = y_test[y_test==1]\n",
        "\n",
        "    knn = answer_five()\n",
        "\n",
        "    scores = [\n",
        "        knn.score(mal_train_X, mal_train_y),\n",
        "        knn.score(ben_train_X, ben_train_y),\n",
        "        knn.score(mal_test_X, mal_test_y),\n",
        "        knn.score(ben_test_X, ben_test_y)\n",
        "    ]\n",
        "    \n",
        "\n",
        "    plt.figure()\n",
        "\n",
        "    # Plot the scores as a bar chart\n",
        "    bars = plt.bar(np.arange(4), scores, color=['#4c72b0','#4c72b0','#55a868','#55a868'])\n",
        "\n",
        "    # directly label the score onto the bars\n",
        "    for bar in bars:\n",
        "        height = bar.get_height()\n",
        "        plt.gca().text(bar.get_x() + bar.get_width()/2, height*.90, '{0:.{1}f}'.format(height, 2), \n",
        "                     ha='center', color='w', fontsize=11)\n",
        "\n",
        "    # remove all the ticks (both axes), and tick labels on the Y axis\n",
        "    plt.tick_params(top='off', bottom='off', left='off', right='off', labelleft='off', labelbottom='on')\n",
        "\n",
        "    # remove the frame of the chart\n",
        "    for spine in plt.gca().spines.values():\n",
        "        spine.set_visible(False)\n",
        "\n",
        "    plt.xticks([0,1,2,3], ['Malignant\\nTraining', 'Benign\\nTraining', 'Malignant\\nTest', 'Benign\\nTest'], alpha=0.8);\n",
        "    plt.title('Training and Test Accuracies for Malignant and Benign Cells', alpha=0.8)"
      ]
    },
    {
      "cell_type": "code",
      "execution_count": null,
      "id": "75e16042-fcea-4769-87cb-3d289ebcd479",
      "metadata": {
        "id": "75e16042-fcea-4769-87cb-3d289ebcd479",
        "colab": {
          "base_uri": "https://localhost:8080/",
          "height": 556
        },
        "outputId": "8b24c68b-462e-4c23-89c6-00e2a4fe8164"
      },
      "outputs": [
        {
          "output_type": "stream",
          "name": "stderr",
          "text": [
            "/usr/local/lib/python3.8/dist-packages/pandas/core/generic.py:4150: PerformanceWarning: dropping on a non-lexsorted multi-index without a level parameter may impact performance.\n",
            "  obj = obj._drop_axis(labels, axis, level=level, errors=errors)\n",
            "/usr/local/lib/python3.8/dist-packages/sklearn/utils/validation.py:1688: FutureWarning: Feature names only support names that are all strings. Got feature names with dtypes: ['tuple']. An error will be raised in 1.2.\n",
            "  warnings.warn(\n",
            "/usr/local/lib/python3.8/dist-packages/sklearn/neighbors/_classification.py:198: DataConversionWarning: A column-vector y was passed when a 1d array was expected. Please change the shape of y to (n_samples,), for example using ravel().\n",
            "  return self._fit(X, y)\n",
            "/usr/local/lib/python3.8/dist-packages/sklearn/utils/validation.py:1688: FutureWarning: Feature names only support names that are all strings. Got feature names with dtypes: ['tuple']. An error will be raised in 1.2.\n",
            "  warnings.warn(\n",
            "/usr/local/lib/python3.8/dist-packages/sklearn/utils/validation.py:1688: FutureWarning: Feature names only support names that are all strings. Got feature names with dtypes: ['tuple']. An error will be raised in 1.2.\n",
            "  warnings.warn(\n",
            "/usr/local/lib/python3.8/dist-packages/sklearn/utils/validation.py:1688: FutureWarning: Feature names only support names that are all strings. Got feature names with dtypes: ['tuple']. An error will be raised in 1.2.\n",
            "  warnings.warn(\n",
            "/usr/local/lib/python3.8/dist-packages/sklearn/utils/validation.py:1688: FutureWarning: Feature names only support names that are all strings. Got feature names with dtypes: ['tuple']. An error will be raised in 1.2.\n",
            "  warnings.warn(\n"
          ]
        },
        {
          "output_type": "display_data",
          "data": {
            "text/plain": [
              "<Figure size 432x288 with 1 Axes>"
            ],
            "image/png": "[encoded data removed]"
          },
          "metadata": {
            "needs_background": "light"
          }
        }
      ],
      "source": [
        "accuracy_plot() "
      ]
    },
    {
      "cell_type": "markdown",
      "id": "d3dda16d-0a7f-4376-a1e6-a82ca8b8e6eb",
      "metadata": {
        "id": "d3dda16d-0a7f-4376-a1e6-a82ca8b8e6eb"
      },
      "source": [
        "### Question 10\n",
        "1. Load Iris dataset from sklearn.\n",
        "2. Split the data into training and testing (30% testing)\n",
        "3. Create scatter plot.\n",
        "4. From the scatter plot choose two features only to train a knn model with suitable \"k\" of your choice.\n",
        "5. Evaluate your model performance and comment on your results."
      ]
    },
    {
      "cell_type": "code",
      "execution_count": null,
      "id": "8a8d4298",
      "metadata": {
        "id": "8a8d4298",
        "colab": {
          "base_uri": "https://localhost:8080/",
          "height": 105
        },
        "outputId": "452f292b-11b5-4148-dc3e-999454653237"
      },
      "outputs": [
        {
          "output_type": "execute_result",
          "data": {
            "text/plain": [
              "'.. _iris_dataset:\\n\\nIris plants dataset\\n--------------------\\n\\n**Data Set Characteristics:**\\n\\n    :Number of Instances: 150 (50 in each of three classes)\\n    :Number of Attributes: 4 numeric, predictive attributes and the class\\n    :Attribute Information:\\n        - sepal length in cm\\n        - sepal width in cm\\n        - petal length in cm\\n        - petal width in cm\\n        - class:\\n                - Iris-Setosa\\n                - Iris-Versicolour\\n                - Iris-Virginica\\n                \\n    :Summary Statistics:\\n\\n    ============== ==== ==== ======= ===== ====================\\n                    Min  Max   Mean    SD   Class Correlation\\n    ============== ==== ==== ======= ===== ====================\\n    sepal length:   4.3  7.9   5.84   0.83    0.7826\\n    sepal width:    2.0  4.4   3.05   0.43   -0.4194\\n    petal length:   1.0  6.9   3.76   1.76    0.9490  (high!)\\n    petal width:    0.1  2.5   1.20   0.76    0.9565  (high!)\\n    ============== ==== ==== ======= ===== ====================\\n\\n    :Missing Attribute Values: None\\n    :Class Distribution: 33.3% for each of 3 classes.\\n    :Creator: R.A. Fisher\\n    :Donor: Michael Marshall (MARSHALL%PLU@io.arc.nasa.gov)\\n    :Date: July, 1988\\n\\nThe famous Iris database, first used by Sir R.A. Fisher. The dataset is taken\\nfrom Fisher\\'s paper. Note that it\\'s the same as in R, but not as in the UCI\\nMachine Learning Repository, which has two wrong data points.\\n\\nThis is perhaps the best known database to be found in the\\npattern recognition literature.  Fisher\\'s paper is a classic in the field and\\nis referenced frequently to this day.  (See Duda & Hart, for example.)  The\\ndata set contains 3 classes of 50 instances each, where each class refers to a\\ntype of iris plant.  One class is linearly separable from the other 2; the\\nlatter are NOT linearly separable from each other.\\n\\n.. topic:: References\\n\\n   - Fisher, R.A. \"The use of multiple measurements in taxonomic problems\"\\n     Annual Eugenics, 7, Part II, 179-188 (1936); also in \"Contributions to\\n     Mathematical Statistics\" (John Wiley, NY, 1950).\\n   - Duda, R.O., & Hart, P.E. (1973) Pattern Classification and Scene Analysis.\\n     (Q327.D83) John Wiley & Sons.  ISBN 0-471-22361-1.  See page 218.\\n   - Dasarathy, B.V. (1980) \"Nosing Around the Neighborhood: A New System\\n     Structure and Classification Rule for Recognition in Partially Exposed\\n     Environments\".  IEEE Transactions on Pattern Analysis and Machine\\n     Intelligence, Vol. PAMI-2, No. 1, 67-71.\\n   - Gates, G.W. (1972) \"The Reduced Nearest Neighbor Rule\".  IEEE Transactions\\n     on Information Theory, May 1972, 431-433.\\n   - See also: 1988 MLC Proceedings, 54-64.  Cheeseman et al\"s AUTOCLASS II\\n     conceptual clustering system finds 3 classes in the data.\\n   - Many, many more ...'"
            ],
            "application/vnd.google.colaboratory.intrinsic+json": {
              "type": "string"
            }
          },
          "metadata": {},
          "execution_count": 81
        }
      ],
      "source": [
        "from sklearn.datasets import load_iris\n",
        "\n",
        "iris = load_iris()\n",
        "iris.DESCR"
      ]
    },
    {
      "cell_type": "code",
      "source": [
        "# convert the cancer data into dataframe\n",
        "iris_df = pd.DataFrame(data=iris.data, columns=[iris.feature_names])\n",
        "# add target column to the dataframe\n",
        "iris_df['target'] = iris.target"
      ],
      "metadata": {
        "id": "4Wz9PhgbLaAe"
      },
      "id": "4Wz9PhgbLaAe",
      "execution_count": null,
      "outputs": []
    },
    {
      "cell_type": "code",
      "source": [
        "X_iris = iris_df.drop(axis=1,columns='target')\n",
        "y_iris = iris_df['target']\n",
        "\n",
        "iris_df"
      ],
      "metadata": {
        "colab": {
          "base_uri": "https://localhost:8080/",
          "height": 458
        },
        "id": "YuoKirtDLqto",
        "outputId": "c7dc2ecb-cb99-407d-c96b-7bd802f04b8b"
      },
      "id": "YuoKirtDLqto",
      "execution_count": null,
      "outputs": [
        {
          "output_type": "stream",
          "name": "stderr",
          "text": [
            "/usr/local/lib/python3.8/dist-packages/pandas/core/generic.py:4150: PerformanceWarning: dropping on a non-lexsorted multi-index without a level parameter may impact performance.\n",
            "  obj = obj._drop_axis(labels, axis, level=level, errors=errors)\n"
          ]
        },
        {
          "output_type": "execute_result",
          "data": {
            "text/plain": [
              "    sepal length (cm) sepal width (cm) petal length (cm) petal width (cm)  \\\n",
              "0                 5.1              3.5               1.4              0.2   \n",
              "1                 4.9              3.0               1.4              0.2   \n",
              "2                 4.7              3.2               1.3              0.2   \n",
              "3                 4.6              3.1               1.5              0.2   \n",
              "4                 5.0              3.6               1.4              0.2   \n",
              "..                ...              ...               ...              ...   \n",
              "145               6.7              3.0               5.2              2.3   \n",
              "146               6.3              2.5               5.0              1.9   \n",
              "147               6.5              3.0               5.2              2.0   \n",
              "148               6.2              3.4               5.4              2.3   \n",
              "149               5.9              3.0               5.1              1.8   \n",
              "\n",
              "    target  \n",
              "0        0  \n",
              "1        0  \n",
              "2        0  \n",
              "3        0  \n",
              "4        0  \n",
              "..     ...  \n",
              "145      2  \n",
              "146      2  \n",
              "147      2  \n",
              "148      2  \n",
              "149      2  \n",
              "\n",
              "[150 rows x 5 columns]"
            ],
            "text/html": [
              "\n",
              "  <div id=\"df-e32b7e78-dd0c-4176-81cf-a47655980e80\">\n",
              "    <div class=\"colab-df-container\">\n",
              "      <div>\n",
              "<style scoped>\n",
              "    .dataframe tbody tr th:only-of-type {\n",
              "        vertical-align: middle;\n",
              "    }\n",
              "\n",
              "    .dataframe tbody tr th {\n",
              "        vertical-align: top;\n",
              "    }\n",
              "\n",
              "    .dataframe thead tr th {\n",
              "        text-align: left;\n",
              "    }\n",
              "</style>\n",
              "<table border=\"1\" class=\"dataframe\">\n",
              "  <thead>\n",
              "    <tr>\n",
              "      <th></th>\n",
              "      <th>sepal length (cm)</th>\n",
              "      <th>sepal width (cm)</th>\n",
              "      <th>petal length (cm)</th>\n",
              "      <th>petal width (cm)</th>\n",
              "      <th>target</th>\n",
              "    </tr>\n",
              "  </thead>\n",
              "  <tbody>\n",
              "    <tr>\n",
              "      <th>0</th>\n",
              "      <td>5.1</td>\n",
              "      <td>3.5</td>\n",
              "      <td>1.4</td>\n",
              "      <td>0.2</td>\n",
              "      <td>0</td>\n",
              "    </tr>\n",
              "    <tr>\n",
              "      <th>1</th>\n",
              "      <td>4.9</td>\n",
              "      <td>3.0</td>\n",
              "      <td>1.4</td>\n",
              "      <td>0.2</td>\n",
              "      <td>0</td>\n",
              "    </tr>\n",
              "    <tr>\n",
              "      <th>2</th>\n",
              "      <td>4.7</td>\n",
              "      <td>3.2</td>\n",
              "      <td>1.3</td>\n",
              "      <td>0.2</td>\n",
              "      <td>0</td>\n",
              "    </tr>\n",
              "    <tr>\n",
              "      <th>3</th>\n",
              "      <td>4.6</td>\n",
              "      <td>3.1</td>\n",
              "      <td>1.5</td>\n",
              "      <td>0.2</td>\n",
              "      <td>0</td>\n",
              "    </tr>\n",
              "    <tr>\n",
              "      <th>4</th>\n",
              "      <td>5.0</td>\n",
              "      <td>3.6</td>\n",
              "      <td>1.4</td>\n",
              "      <td>0.2</td>\n",
              "      <td>0</td>\n",
              "    </tr>\n",
              "    <tr>\n",
              "      <th>...</th>\n",
              "      <td>...</td>\n",
              "      <td>...</td>\n",
              "      <td>...</td>\n",
              "      <td>...</td>\n",
              "      <td>...</td>\n",
              "    </tr>\n",
              "    <tr>\n",
              "      <th>145</th>\n",
              "      <td>6.7</td>\n",
              "      <td>3.0</td>\n",
              "      <td>5.2</td>\n",
              "      <td>2.3</td>\n",
              "      <td>2</td>\n",
              "    </tr>\n",
              "    <tr>\n",
              "      <th>146</th>\n",
              "      <td>6.3</td>\n",
              "      <td>2.5</td>\n",
              "      <td>5.0</td>\n",
              "      <td>1.9</td>\n",
              "      <td>2</td>\n",
              "    </tr>\n",
              "    <tr>\n",
              "      <th>147</th>\n",
              "      <td>6.5</td>\n",
              "      <td>3.0</td>\n",
              "      <td>5.2</td>\n",
              "      <td>2.0</td>\n",
              "      <td>2</td>\n",
              "    </tr>\n",
              "    <tr>\n",
              "      <th>148</th>\n",
              "      <td>6.2</td>\n",
              "      <td>3.4</td>\n",
              "      <td>5.4</td>\n",
              "      <td>2.3</td>\n",
              "      <td>2</td>\n",
              "    </tr>\n",
              "    <tr>\n",
              "      <th>149</th>\n",
              "      <td>5.9</td>\n",
              "      <td>3.0</td>\n",
              "      <td>5.1</td>\n",
              "      <td>1.8</td>\n",
              "      <td>2</td>\n",
              "    </tr>\n",
              "  </tbody>\n",
              "</table>\n",
              "<p>150 rows × 5 columns</p>\n",
              "</div>\n",
              "      <button class=\"colab-df-convert\" onclick=\"convertToInteractive('df-e32b7e78-dd0c-4176-81cf-a47655980e80')\"\n",
              "              title=\"Convert this dataframe to an interactive table.\"\n",
              "              style=\"display:none;\">\n",
              "        \n",
              "  <svg xmlns=\"http://www.w3.org/2000/svg\" height=\"24px\"viewBox=\"0 0 24 24\"\n",
              "       width=\"24px\">\n",
              "    <path d=\"M0 0h24v24H0V0z\" fill=\"none\"/>\n",
              "    <path d=\"M18.56 5.44l.94 2.06.94-2.06 2.06-.94-2.06-.94-.94-2.06-.94 2.06-2.06.94zm-11 1L8.5 8.5l.94-2.06 2.06-.94-2.06-.94L8.5 2.5l-.94 2.06-2.06.94zm10 10l.94 2.06.94-2.06 2.06-.94-2.06-.94-.94-2.06-.94 2.06-2.06.94z\"/><path d=\"M17.41 7.96l-1.37-1.37c-.4-.4-.92-.59-1.43-.59-.52 0-1.04.2-1.43.59L10.3 9.45l-7.72 7.72c-.78.78-.78 2.05 0 2.83L4 21.41c.39.39.9.59 1.41.59.51 0 1.02-.2 1.41-.59l7.78-7.78 2.81-2.81c.8-.78.8-2.07 0-2.86zM5.41 20L4 18.59l7.72-7.72 1.47 1.35L5.41 20z\"/>\n",
              "  </svg>\n",
              "      </button>\n",
              "      \n",
              "  <style>\n",
              "    .colab-df-container {\n",
              "      display:flex;\n",
              "      flex-wrap:wrap;\n",
              "      gap: 12px;\n",
              "    }\n",
              "\n",
              "    .colab-df-convert {\n",
              "      background-color: #E8F0FE;\n",
              "      border: none;\n",
              "      border-radius: 50%;\n",
              "      cursor: pointer;\n",
              "      display: none;\n",
              "      fill: #1967D2;\n",
              "      height: 32px;\n",
              "      padding: 0 0 0 0;\n",
              "      width: 32px;\n",
              "    }\n",
              "\n",
              "    .colab-df-convert:hover {\n",
              "      background-color: #E2EBFA;\n",
              "      box-shadow: 0px 1px 2px rgba(60, 64, 67, 0.3), 0px 1px 3px 1px rgba(60, 64, 67, 0.15);\n",
              "      fill: #174EA6;\n",
              "    }\n",
              "\n",
              "    [theme=dark] .colab-df-convert {\n",
              "      background-color: #3B4455;\n",
              "      fill: #D2E3FC;\n",
              "    }\n",
              "\n",
              "    [theme=dark] .colab-df-convert:hover {\n",
              "      background-color: #434B5C;\n",
              "      box-shadow: 0px 1px 3px 1px rgba(0, 0, 0, 0.15);\n",
              "      filter: drop-shadow(0px 1px 2px rgba(0, 0, 0, 0.3));\n",
              "      fill: #FFFFFF;\n",
              "    }\n",
              "  </style>\n",
              "\n",
              "      <script>\n",
              "        const buttonEl =\n",
              "          document.querySelector('#df-e32b7e78-dd0c-4176-81cf-a47655980e80 button.colab-df-convert');\n",
              "        buttonEl.style.display =\n",
              "          google.colab.kernel.accessAllowed ? 'block' : 'none';\n",
              "\n",
              "        async function convertToInteractive(key) {\n",
              "          const element = document.querySelector('#df-e32b7e78-dd0c-4176-81cf-a47655980e80');\n",
              "          const dataTable =\n",
              "            await google.colab.kernel.invokeFunction('convertToInteractive',\n",
              "                                                     [key], {});\n",
              "          if (!dataTable) return;\n",
              "\n",
              "          const docLinkHtml = 'Like what you see? Visit the ' +\n",
              "            '<a target=\"_blank\" href=https://colab.research.google.com/notebooks/data_table.ipynb>data table notebook</a>'\n",
              "            + ' to learn more about interactive tables.';\n",
              "          element.innerHTML = '';\n",
              "          dataTable['output_type'] = 'display_data';\n",
              "          await google.colab.output.renderOutput(dataTable, element);\n",
              "          const docLink = document.createElement('div');\n",
              "          docLink.innerHTML = docLinkHtml;\n",
              "          element.appendChild(docLink);\n",
              "        }\n",
              "      </script>\n",
              "    </div>\n",
              "  </div>\n",
              "  "
            ]
          },
          "metadata": {},
          "execution_count": 86
        }
      ]
    },
    {
      "cell_type": "code",
      "source": [
        "X_train_iris, X_test_iris, y_train_iris, y_test_iris = train_test_split(X_iris,y_iris,test_size=0.3)"
      ],
      "metadata": {
        "id": "f72TPs1qLvlo"
      },
      "id": "f72TPs1qLvlo",
      "execution_count": null,
      "outputs": []
    },
    {
      "cell_type": "code",
      "source": [
        "scatter_plt = pd.plotting.scatter_matrix(X_train_iris,c=y_train_iris,marker='o',s=40,hist_kwds={'bins':15},figsize=(10,10))"
      ],
      "metadata": {
        "colab": {
          "base_uri": "https://localhost:8080/",
          "height": 601
        },
        "id": "ljmzP_jOL0Hv",
        "outputId": "d4d6c061-6b7e-4cab-cc78-b154fba4f188"
      },
      "id": "ljmzP_jOL0Hv",
      "execution_count": null,
      "outputs": [
        {
          "output_type": "display_data",
          "data": {
            "text/plain": [
              "<Figure size 720x720 with 16 Axes>"
            ],
            "image/png": "[encoded data removed]"
          },
          "metadata": {
            "needs_background": "light"
          }
        }
      ]
    },
    {
      "cell_type": "code",
      "source": [
        "iris_df = iris_df.drop(axis=1,columns='sepal length (cm)')\n",
        "iris_df = iris_df.drop(axis=1,columns='sepal width (cm)')"
      ],
      "metadata": {
        "colab": {
          "base_uri": "https://localhost:8080/"
        },
        "id": "MNl_wS1ZL5eG",
        "outputId": "61267c9e-2daf-4986-a603-b3edf7fa1502"
      },
      "id": "MNl_wS1ZL5eG",
      "execution_count": null,
      "outputs": [
        {
          "output_type": "stream",
          "name": "stderr",
          "text": [
            "/usr/local/lib/python3.8/dist-packages/pandas/core/generic.py:4150: PerformanceWarning: dropping on a non-lexsorted multi-index without a level parameter may impact performance.\n",
            "  obj = obj._drop_axis(labels, axis, level=level, errors=errors)\n"
          ]
        }
      ]
    },
    {
      "cell_type": "code",
      "source": [
        "X_iris = iris_df.drop(axis=1,columns='target')\n",
        "y_iris = iris_df['target']\n",
        "X_train_iris, X_test_iris, y_train_iris, y_test_iris = train_test_split(X_iris,y_iris,test_size=0.3)"
      ],
      "metadata": {
        "id": "SMJeRlVVL-AO"
      },
      "id": "SMJeRlVVL-AO",
      "execution_count": null,
      "outputs": []
    },
    {
      "cell_type": "code",
      "source": [
        "from sklearn.neighbors import KNeighborsClassifier\n",
        "\n",
        "iris_model = KNeighborsClassifier(n_neighbors=5)\n",
        "iris_model.fit(X_train_iris,y_train_iris)"
      ],
      "metadata": {
        "colab": {
          "base_uri": "https://localhost:8080/"
        },
        "id": "OvWFEa0LL94k",
        "outputId": "01baaf17-c2e0-4197-fd4d-7f95c794f7b1"
      },
      "id": "OvWFEa0LL94k",
      "execution_count": null,
      "outputs": [
        {
          "output_type": "stream",
          "name": "stderr",
          "text": [
            "/usr/local/lib/python3.8/dist-packages/sklearn/utils/validation.py:1688: FutureWarning: Feature names only support names that are all strings. Got feature names with dtypes: ['tuple']. An error will be raised in 1.2.\n",
            "  warnings.warn(\n",
            "/usr/local/lib/python3.8/dist-packages/sklearn/neighbors/_classification.py:198: DataConversionWarning: A column-vector y was passed when a 1d array was expected. Please change the shape of y to (n_samples,), for example using ravel().\n",
            "  return self._fit(X, y)\n"
          ]
        },
        {
          "output_type": "execute_result",
          "data": {
            "text/plain": [
              "KNeighborsClassifier()"
            ]
          },
          "metadata": {},
          "execution_count": 89
        }
      ]
    },
    {
      "cell_type": "code",
      "source": [
        "y_train_prediction = iris_model.predict(X_train_iris)\n",
        "y_test_prediction = iris_model.predict(X_test_iris)"
      ],
      "metadata": {
        "colab": {
          "base_uri": "https://localhost:8080/"
        },
        "id": "56F3eblkMMio",
        "outputId": "f6abfe50-2060-4299-f9cc-2dc786d563e7"
      },
      "id": "56F3eblkMMio",
      "execution_count": null,
      "outputs": [
        {
          "output_type": "stream",
          "name": "stderr",
          "text": [
            "/usr/local/lib/python3.8/dist-packages/sklearn/utils/validation.py:1688: FutureWarning: Feature names only support names that are all strings. Got feature names with dtypes: ['tuple']. An error will be raised in 1.2.\n",
            "  warnings.warn(\n",
            "/usr/local/lib/python3.8/dist-packages/sklearn/utils/validation.py:1688: FutureWarning: Feature names only support names that are all strings. Got feature names with dtypes: ['tuple']. An error will be raised in 1.2.\n",
            "  warnings.warn(\n"
          ]
        }
      ]
    },
    {
      "cell_type": "code",
      "source": [
        "print(f'train accuarcy:{accuracy_score(y_train_iris,y_train_prediction)}')\n",
        "print(f'test accuarcy:{accuracy_score(y_test_iris,y_test_prediction)}')"
      ],
      "metadata": {
        "colab": {
          "base_uri": "https://localhost:8080/"
        },
        "id": "RiI-yJJoMYRq",
        "outputId": "42d8d659-2d83-41f9-925c-787ef2c8311a"
      },
      "id": "RiI-yJJoMYRq",
      "execution_count": null,
      "outputs": [
        {
          "output_type": "stream",
          "name": "stdout",
          "text": [
            "train accuarcy:0.9619047619047619\n",
            "test accuarcy:0.9777777777777777\n"
          ]
        }
      ]
    },
    {
      "cell_type": "markdown",
      "source": [
        "### Comments"
      ],
      "metadata": {
        "id": "PC3H0h4UMxRx"
      },
      "id": "PC3H0h4UMxRx"
    },
    {
      "cell_type": "markdown",
      "source": [
        "\n",
        "#### Choosing The 2 Features\n",
        "I choose these two features because in they have better correlation shown in the scatter plot and also shown in the description of the data set\n",
        "\n",
        "\n",
        "#### Acuraccy scores\n",
        "The Training Acurracy is 96.1% while the testing accuracy is 97.7. there is no big differnce in both accuracies which means our model has no overfitting and general for most of inputs and also our data is repesting the population well."
      ],
      "metadata": {
        "id": "gJiQr-U3M4pU"
      },
      "id": "gJiQr-U3M4pU"
    },
    {
      "cell_type": "code",
      "source": [],
      "metadata": {
        "id": "MtCcGZwWOxfO"
      },
      "id": "MtCcGZwWOxfO",
      "execution_count": null,
      "outputs": []
    }
  ],
  "metadata": {
    "colab": {
      "provenance": [],
      "collapsed_sections": [
        "0f3336f9-9517-4a9a-91ca-fba2bb25d6dc",
        "bcb50095-8bec-4d75-9160-8338f9801dae",
        "55dbd498-cb23-4cab-9138-c4b7e7db82c1",
        "07065db3-e464-473f-ab71-dbfeeee097f6",
        "42288a73-b635-402d-8c26-229dc49c79f8"
      ]
    },
    "kernelspec": {
      "display_name": "Python 3 (ipykernel)",
      "language": "python",
      "name": "python3"
    },
    "language_info": {
      "codemirror_mode": {
        "name": "ipython",
        "version": 3
      },
      "file_extension": ".py",
      "mimetype": "text/x-python",
      "name": "python",
      "nbconvert_exporter": "python",
      "pygments_lexer": "ipython3",
      "version": "3.9.10"
    }
  },
  "nbformat": 4,
  "nbformat_minor": 5
}